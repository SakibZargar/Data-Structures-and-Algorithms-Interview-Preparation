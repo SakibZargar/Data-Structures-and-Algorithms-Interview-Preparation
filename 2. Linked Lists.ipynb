{
  "nbformat": 4,
  "nbformat_minor": 0,
  "metadata": {
    "colab": {
      "name": "2. Linked Lists.ipynb",
      "provenance": [],
      "collapsed_sections": []
    },
    "kernelspec": {
      "name": "python3",
      "display_name": "Python 3"
    },
    "language_info": {
      "name": "python"
    }
  },
  "cells": [
    {
      "cell_type": "markdown",
      "metadata": {
        "id": "k0geKCdXAwv6"
      },
      "source": [
        "Linked List is not a built-in data structure in Python, so one must first know how to create a (singly, doubly, continuous) linked list from scratch.\n",
        "\n",
        "SLL Example: Monday   ->   Tuesday -> Wednesday -> Thursday -> Friday -> Saturday -> Sunday -> 1 -> 2 -> 3\n",
        "\n",
        "DLL Example: Monday <=> Tuesday <=> Wednesday <=> Thursday <=> Friday <=> Saturday <=> Sunday <=> 1 <=> 2 <=> 3"
      ]
    },
    {
      "cell_type": "markdown",
      "metadata": {
        "id": "59GUk12EcDip"
      },
      "source": [
        "Singly linked list from scratch:----------------------------------------------------------------------------------------------------------------------------------------------------"
      ]
    },
    {
      "cell_type": "code",
      "metadata": {
        "id": "fiVshyAJwHkv"
      },
      "source": [
        "class NodeSll:                      # In a Singly Linked List, each Node contains data and the referenece to its next node\n",
        "  def __init__(self,data):\n",
        "    self.data= data                 # When a new node is created, only the data contained in that node is specified\n",
        "    self.next= None                 # The reference to the next node is specified at the time of linking the nodes together"
      ],
      "execution_count": 1,
      "outputs": []
    },
    {
      "cell_type": "code",
      "metadata": {
        "id": "hj1YHRNPwOEN"
      },
      "source": [
        "class SinglyLinkedList:\n",
        "\n",
        "  def __init__(self):\n",
        "    self.head= None                 # Create an empty linked list to begin with\n",
        "\n",
        "  \n",
        "  # Preliminary functions/methods related to singly linked lists:\n",
        "\n",
        "\n",
        "  def calculate_length(self):       # METHOD: Calculate the length/size of the singly linked list\n",
        "    if self.head == None:\n",
        "      return (0)\n",
        "    count= 1\n",
        "    last_node= self.head\n",
        "    while last_node.next != None:\n",
        "      last_node= last_node.next\n",
        "      count+= 1\n",
        "    return (count)\n",
        "    \n",
        "  def display_contents(self):       # METHOD: Display contents of the singly linked list\n",
        "    if self.head == None:\n",
        "      return (print('The linked list is Empty'))\n",
        "    l= []\n",
        "    last_node= self.head\n",
        "    l.append(str(last_node.data))\n",
        "    # str() is used here as .join() which will later be used to display the linked list requires strings as input\n",
        "    while last_node.next != None:\n",
        "      last_node= last_node.next\n",
        "      l.append(str(last_node.data))\n",
        "    return (print(' -> '.join(l)))\n",
        "\n",
        "  def reverse_inplace(self):        # METHOD: Reverse the singly linked list inplace\n",
        "    # Head -> a|b -> b|c -> c|d -> d|Null\n",
        "    # a|Null <- b|a <- c|b <- d|c <- Head \n",
        "    prev= None\n",
        "    current_node= self.head\n",
        "    while current_node != None:\n",
        "      temp= current_node.next\n",
        "      current_node.next= prev\n",
        "      prev= current_node\n",
        "      current_node= temp\n",
        "    self.head= prev\n",
        "\n",
        "\n",
        "  # Functions/methods for adding elements to a singly linked list (beginning, end, in between):\n",
        "\n",
        "\n",
        "  def add_el_begin(self,data):      # METHOD: Add a new element at the beginning of the singly linked list \n",
        "    # [St.1] Create a new node containing the given data\n",
        "    new_node= NodeSll(data)\n",
        "    # [St.2] Set next of the new node (which is right now None) to the current head of the linked list. If the linked list is Empty, no problem, next is set to None again which simply means it becomes the head.\n",
        "    new_node.next= self.head\n",
        "    # [St.3] Set the head of the linked list to the new node and we are done \n",
        "    self.head= new_node\n",
        "\n",
        "  def add_el_end(self,data):        # METHOD: Add a new element at the end of the singly linked list \n",
        "    # [St.1] Create a new node containing the given data\n",
        "    new_node= NodeSll(data)\n",
        "    # [St.2] Go to the last node of the linked list, lets call that the target node\n",
        "    # NOTE: If the linked list is empty, we can't go anywhere. In that case, the new node  simply becomes the head of the linked list and thats it.\n",
        "    if self.head == None:\n",
        "      self.head= new_node\n",
        "      return\n",
        "    target_node= self.head\n",
        "    while target_node.next != None:\n",
        "      target_node= target_node.next\n",
        "    # [St.3] Once the target node (in this case last node) is reached, simply change its next from None to the new node and we are done\n",
        "    target_node.next= new_node\n",
        "\n",
        "  def add_el_after(self,data,x):    # METHOD: Add a new element after a particular element (x) in the singly linked list\n",
        "    # [St.0] If the linked list is Empty, it cant have (x) in it \n",
        "    if self.head == None:\n",
        "      return (print('ERROR: The linked list is empty, as such, cannot have {} in it'.format(x)))\n",
        "    # [St.1] Go to the target node which in this case is the node with data (x). We didnt create the new node at the outset because if we cant find (x), we dont have to add anything.\n",
        "    target_node= self.head\n",
        "    while target_node.data != x:\n",
        "      target_node= target_node.next\n",
        "      if target_node == None:\n",
        "        return (print('ERROR: Reached the end of the linked list and could not find {}'.format(x)))\n",
        "    # [St.2] Create a new node containing the given data\n",
        "    new_node= NodeSll(data)\n",
        "    # [St.3] Set next of the new node to the current next of the identified target node and then set the next of the target node to the new node. Done. \n",
        "    new_node.next= target_node.next\n",
        "    target_node.next= new_node\n",
        "\n",
        "  def add_el_before(self,data,x):   # METHOD: Add a new element before a particular element (x) in the singly linked list\n",
        "    # [St.0] If the linked list is Empty, it cant have (x) in it \n",
        "    if self.head == None:\n",
        "      return (print('ERROR: The linked list is empty, as such, cannot have {} in it'.format(x)))\n",
        "    # [St.1] Go to the target node which in this case is the node before the one having data (x)\n",
        "    # Since it is a singly linked list, we can only move in the forward direction, as such we cannot go to the node having data (x) and then take a step back. So we must stop at the node before the node with data (x).\n",
        "    # It is not straightforward to use node.next.data == x condition for identifying target node as it could very well be the last node and this condition will give an error.\n",
        "    # An edge case could arise when the 1st node itself has the data (x)\n",
        "    if self.head.data == x:\n",
        "      new_node= NodeSll(data)\n",
        "      new_node.next= self.head\n",
        "      self.head= new_node\n",
        "      return\n",
        "    target_node= self.head\n",
        "    while target_node.next != None:\n",
        "      if target_node.next.data == x:\n",
        "        break\n",
        "      target_node= target_node.next\n",
        "    if target_node.next == None:\n",
        "      return (print('ERROR: Reached the end of the linked list and could not find {}'.format(x)))\n",
        "    # [St.2] Create a new node containing the given data\n",
        "    new_node= NodeSll(data)\n",
        "    # [St.3] Set next of the new node to the current next of the identified target node and then set the next of the target node to the new node. Done. \n",
        "    new_node.next= target_node.next\n",
        "    target_node.next= new_node\n",
        "\n",
        "\n",
        "  # Functions/methods for removing elements from a singly linked list (beginning, end, in between):\n",
        "\n",
        "  \n",
        "  def del_el_begin(self):           # METHOD: Delete the 1st element of the singly linked list\n",
        "    # [St.0] If the linked list is Empty, there is nothing to delete in it\n",
        "    if self.head == None:\n",
        "      return (print('ERROR: The linked list is Empty, as such, has nothing to delete in it'))\n",
        "    # The 1st node can be removed from the linked list by simply pointing the head to the second node\n",
        "    self.head= self.head.next\n",
        "\n",
        "  def del_el_end(self):             # METHOD: Delete the last element of the singly linked list\n",
        "    # [St.0] If the linked list is Empty, there is nothing to delete in it\n",
        "    if self.head == None:\n",
        "      return (print('ERROR: The linked list is Empty, as such, has nothing to delete in it'))\n",
        "    # [St.1] Go to the target node which in this case is the second last node\n",
        "    # An edge case could arise when there is only one node in the linked list. In that case, just set the head of the linked list to None. \n",
        "    if self.head.next == None:\n",
        "      self.head= None\n",
        "      return   \n",
        "    target_node= self.head\n",
        "    while target_node.next.next != None:\n",
        "      target_node= target_node.next\n",
        "    # [St.2] Set next of the identified target node to None and we are done\n",
        "    target_node.next= None \n",
        "\n",
        "  def del_el_value(self,x):         # METHOD: Delete a particular node (x) of the singly linked list\n",
        "    # [St.0] If the linked list is Empty, it cant have (x) in it \n",
        "    if self.head == None:\n",
        "      return (print('ERROR: The linked list is empty, as such, cannot have {} in it'.format(x)))\n",
        "    # [St.1] Go to the target node which in this case is the node before the one having data (x)\n",
        "    if self.head.data == x:\n",
        "      self.head= self.head.next\n",
        "      return\n",
        "    target_node= self.head\n",
        "    while target_node.next != None:\n",
        "      if target_node.next.data == x:\n",
        "        break\n",
        "      target_node= target_node.next\n",
        "    if target_node.next == None:\n",
        "      return (print('ERROR: Reached the end of the linked list and could not find {}'.format(x)))\n",
        "    # [St.2] Set next of the identified target node to its next.next i.e., break links with the nodewith data (x). Done. \n",
        "    target_node.next= target_node.next.next"
      ],
      "execution_count": 2,
      "outputs": []
    },
    {
      "cell_type": "markdown",
      "metadata": {
        "id": "BNORk97qViye"
      },
      "source": [
        "--------------------------------------------------------------------------<<<<<<< Code Test >>>>>>> -----------------------------------------------------------------------------"
      ]
    },
    {
      "cell_type": "code",
      "metadata": {
        "id": "gITfk-E6VlmT"
      },
      "source": [
        "# Three test cases: sll_a of length 0, sll_b of length 1, sll_c of length 10\n",
        "sll_a= SinglyLinkedList()\n",
        "sll_b= SinglyLinkedList()\n",
        "sll_c= SinglyLinkedList() \n",
        "data= ['Monday','Tuesday','Wednesday','Thursday','Friday','Saturday','Sunday',1,2,3]\n",
        "for i in range(1):                    \n",
        "  sll_b.add_el_end(data[i])       \n",
        "for i in range(len(data)):          \n",
        "  sll_c.add_el_end(data[i])"
      ],
      "execution_count": 3,
      "outputs": []
    },
    {
      "cell_type": "code",
      "metadata": {
        "colab": {
          "base_uri": "https://localhost:8080/"
        },
        "id": "tR5g1FVVVlsB",
        "outputId": "6e7afcc1-9be3-4d99-915b-7dc61182cca1"
      },
      "source": [
        "sll_a.display_contents()\n",
        "sll_a.reverse_inplace()\n",
        "sll_a.display_contents()"
      ],
      "execution_count": 4,
      "outputs": [
        {
          "output_type": "stream",
          "text": [
            "The linked list is Empty\n",
            "The linked list is Empty\n"
          ],
          "name": "stdout"
        }
      ]
    },
    {
      "cell_type": "code",
      "metadata": {
        "colab": {
          "base_uri": "https://localhost:8080/"
        },
        "id": "E5glhauvVlvj",
        "outputId": "4cc5df6c-dd85-4bba-fa6b-76ce43c0e7c4"
      },
      "source": [
        "sll_b.display_contents()\n",
        "sll_b.reverse_inplace()\n",
        "sll_b.display_contents()"
      ],
      "execution_count": 5,
      "outputs": [
        {
          "output_type": "stream",
          "text": [
            "Monday\n",
            "Monday\n"
          ],
          "name": "stdout"
        }
      ]
    },
    {
      "cell_type": "code",
      "metadata": {
        "colab": {
          "base_uri": "https://localhost:8080/"
        },
        "id": "XLTEYP9oVl-z",
        "outputId": "6db72f90-51f0-4fb2-a51f-4bb5bf039207"
      },
      "source": [
        "sll_c.display_contents()\n",
        "sll_c.reverse_inplace()\n",
        "sll_c.display_contents()"
      ],
      "execution_count": 6,
      "outputs": [
        {
          "output_type": "stream",
          "text": [
            "Monday -> Tuesday -> Wednesday -> Thursday -> Friday -> Saturday -> Sunday -> 1 -> 2 -> 3\n",
            "3 -> 2 -> 1 -> Sunday -> Saturday -> Friday -> Thursday -> Wednesday -> Tuesday -> Monday\n"
          ],
          "name": "stdout"
        }
      ]
    },
    {
      "cell_type": "code",
      "metadata": {
        "id": "9jVxiP5cWMW9"
      },
      "source": [
        ""
      ],
      "execution_count": null,
      "outputs": []
    },
    {
      "cell_type": "markdown",
      "metadata": {
        "id": "cypjA8qnJn0K"
      },
      "source": [
        "Doubly linked list from scratch:---------------------------------------------------------------------------------------------------------------------------------------------------"
      ]
    },
    {
      "cell_type": "code",
      "metadata": {
        "id": "fxfxg1VTXwTQ"
      },
      "source": [
        "class NodeDll:                      # In a Doubly Linked List, each Node contains data, referenece to its next node, and referenece to its previous node\n",
        "  def __init__(self,data):\n",
        "    self.data= data                 # When a new node is created, only the data contained in that node is specified\n",
        "    self.next= None                 # The reference to the next node is specified at the time of linking the nodes together\n",
        "    self.prev= None                 # The reference to the previous node is specified at the time of linking the nodes together"
      ],
      "execution_count": 7,
      "outputs": []
    },
    {
      "cell_type": "code",
      "metadata": {
        "id": "o8eSWbucXwal"
      },
      "source": [
        "class DoublyLinkedList:\n",
        "\n",
        "  def __init__(self):\n",
        "    self.head= None                 # Create an empty linked list to begin with\n",
        "\n",
        "  \n",
        "  # Preliminary functions/methods related to doubly linked lists:\n",
        "\n",
        "\n",
        "  def calculate_length(self):       # METHOD: Calculate the length/size of the doubly linked list\n",
        "    if self.head == None:\n",
        "      return (0)\n",
        "    count= 1\n",
        "    last_node= self.head\n",
        "    while last_node.next != None:\n",
        "      last_node= last_node.next\n",
        "      count+= 1\n",
        "    return (count)\n",
        "\n",
        "  def display_contents(self):       # METHOD: Display contents of the doubly linked list\n",
        "    if self.head == None:\n",
        "      return (print('The linked list is Empty'))\n",
        "    l= []\n",
        "    last_node= self.head\n",
        "    l.append(str(last_node.data))\n",
        "    while last_node.next != None:\n",
        "      last_node= last_node.next\n",
        "      l.append(str(last_node.data))\n",
        "    return (print(' <=> '.join(l)))\n",
        "    # The contents can also be displayed by going/traversing to the last node and then using last_node.prev\n",
        "\n",
        "\n",
        "  # Functions/methods for adding elements to a doubly linked list (beginning, end, in between):\n",
        "\n",
        "\n",
        "  def add_el_begin(self,data):      # METHOD: Add a new element at the beginning of the doubly linked list \n",
        "    # [St.1] Create a new node containing the given data\n",
        "    new_node= NodeDll(data)\n",
        "    # [St.2] Since it is a doubly linked list, two things need to be done: (1) Set next of the new node to the current head of the linked list (2) Set prev of the current head to the new node. \n",
        "    new_node.next= self.head\n",
        "    if self.head != None:\n",
        "      self.head.prev= new_node\n",
        "    # [St.3] Set the head of the linked list to the new node and we are done\n",
        "    self.head= new_node\n",
        "    \n",
        "  def add_el_end(self,data):        # METHOD: Add a new element at the end of the doubly linked list \n",
        "    # [St.1] Create a new node containing the given data\n",
        "    new_node= NodeDll(data)\n",
        "    # [St.2] Go to the last node of the linked list\n",
        "    # NOTE: If the linked list is empty, we can't go anywhere (target_node.next gives an Error). In that case, the new node  simply becomes the head of the linked list and thats it.\n",
        "    if self.head == None:\n",
        "      self.head= new_node\n",
        "      return\n",
        "    target_node= self.head\n",
        "    while target_node.next != None:\n",
        "      target_node= target_node.next  \n",
        "    # [St.3] Since it is a doubly linked list, two things need to be done: (1) Set next of the target node to the new node (2) Set prev of the new node to the target node. \n",
        "    target_node.next= new_node\n",
        "    new_node.prev= target_node \n",
        "\n",
        "  def add_el_after(self,data,x):    # METHOD: Add a new element after a particular element (x) in the doubly linked list\n",
        "    # [St.0] If the linked list is Empty, it cant have (x) in it \n",
        "    if self.head == None:\n",
        "      return (print('ERROR: The linked list is empty, as such, cannot have {} in it'.format(x)))\n",
        "    # [St.1] Go to the target node which in this case is the node with data (x). We didnt create the new node at the outset because if we cant find (x), we dont have to add anything.\n",
        "    target_node= self.head\n",
        "    while target_node.data != x:\n",
        "      target_node= target_node.next\n",
        "      if target_node == None:\n",
        "        return (print('ERROR: Reached the end of the linked list and could not find {}'.format(x)))\n",
        "    # [St.2] Create a new node containing the given data\n",
        "    new_node= NodeDll(data)\n",
        "    # [St.3] Four steps: (1)(2) Set prev and next of new node (3) Set prev of the current target node next (4) Set next of the target node  \n",
        "    new_node.prev= target_node\n",
        "    new_node.next= target_node.next\n",
        "    if target_node.next != None:     \n",
        "      target_node.next.prev= new_node  # When the target node is the last node, this is not needed and would have given an error\n",
        "    target_node.next= new_node\n",
        "\n",
        "  def add_el_before(self,data,x):   # METHOD: Add a new element before a particular element (x) in the doubly linked list\n",
        "    # [St.0] If the linked list is Empty, it cant have (x) in it \n",
        "    if self.head == None:\n",
        "      return (print('ERROR: The linked list is empty, as such, cannot have {} in it'.format(x)))\n",
        "    # [St.1] Go to the target node which in this case is the node with data (x)\n",
        "    # This function is much simpler for doubly linked lists as the target node doesn't have to be the node before the one having data (x)\n",
        "    target_node= self.head\n",
        "    while target_node.data != x:\n",
        "      target_node= target_node.next\n",
        "      if target_node == None:\n",
        "        return (print('ERROR: Reached the end of the linked list and could not find {}'.format(x)))\n",
        "    # [St.2] Create a new node containing the given data\n",
        "    new_node= NodeDll(data)\n",
        "    # [St.3] Four steps: (1)(2) Set prev and next of new node (3) Set next of the current target node previous (3) Set prev of the target node\n",
        "    new_node.prev= target_node.prev\n",
        "    new_node.next= target_node\n",
        "    if target_node.prev != None:\n",
        "      target_node.prev.next= new_node  # When the target node is the 1st node, this is not needed and would have given an error\n",
        "    else:\n",
        "      self.head= new_node              # When the target node is the 1st node, the new node becomes the first element and needs to be set as the linked list head\n",
        "    target_node.prev= new_node\n",
        "  \n",
        "\n",
        "  # Functions/methods for removing elements from a doubly linked list (beginning, end, in between):\n",
        "\n",
        "\n",
        "  def del_el_begin(self):           # METHOD: Delete the 1st element of the doubly linked list\n",
        "    # [St.0] If the linked list is Empty, there is nothing to delete in it\n",
        "    if self.head == None:\n",
        "      return (print('ERROR: The linked list is Empty, as such, has nothing to delete in it'))\n",
        "    # [St.1] Like in case of a singly linked list, the 1st node can be removed by simply pointing the head to the second node but we are not done yet\n",
        "    self.head= self.head.next\n",
        "    # [St.2] In case the new head is not Null (it will be Null if the linked list had only one element), set prev of the new head to Null. \n",
        "    if self.head != None:\n",
        "      self.head.prev= None\n",
        "\n",
        "  def del_el_end(self):             # METHOD: Delete the last element of the doubly linked list\n",
        "    # [St.0] If the linked list is Empty, there is nothing to delete in it\n",
        "    if self.head == None:\n",
        "      return (print('ERROR: The linked list is Empty, as such, has nothing to delete in it'))\n",
        "    # [St.1] Go to the last node of the linked list\n",
        "    # # An edge case could arise when there is only one node in the linked list. In that case, just set the head of the linked list to None. \n",
        "    target_node= self.head\n",
        "    while target_node.next != None:\n",
        "      target_node= target_node.next\n",
        "    if target_node.prev == None:\n",
        "      self.head= None\n",
        "      return\n",
        "    # [St.2] Set next of the second last node to None and thats it\n",
        "    target_node.prev.next= None\n",
        "\n",
        "  def del_el_value(self,x):         # METHOD: Delete a particular node (x) of the doubly linked list\n",
        "    # [St.0] If the linked list is Empty, it cant have (x) in it \n",
        "    if self.head == None:\n",
        "      return (print('ERROR: The linked list is empty, as such, cannot have {} in it'.format(x)))\n",
        "    # [St.1] Go to the target node which in this case is the node having data (x)\n",
        "    target_node= self.head\n",
        "    while target_node.data != x:\n",
        "      target_node= target_node.next\n",
        "      if target_node == None:\n",
        "        return (print('ERROR: Reached the end of the linked list and could not find {}'.format(x)))\n",
        "    # [St.2]\n",
        "    # If the identified target node is the only node, simply delete it i.e., set head to None and thats it\n",
        "    if target_node.prev == None and target_node.next == None:\n",
        "      self.head= None\n",
        "      return\n",
        "    # If the identified target node is the 1st node of the linked list, simply point the head towards the next node and set prev of the new head to Null.\n",
        "    if target_node.prev == None:\n",
        "      self.head= target_node.next\n",
        "      self.head.prev= None\n",
        "    else:\n",
        "      target_node.prev.next= target_node.next\n",
        "    # If the identified target node is the last node of the linked list, no need to do anything else\n",
        "    if target_node.next != None:\n",
        "      target_node.next.prev= target_node.prev"
      ],
      "execution_count": 8,
      "outputs": []
    },
    {
      "cell_type": "markdown",
      "metadata": {
        "id": "GwbNfKS1Jx67"
      },
      "source": [
        "--------------------------------------------------------------------------<<<<<<< Code Test >>>>>>> -----------------------------------------------------------------------------"
      ]
    },
    {
      "cell_type": "code",
      "metadata": {
        "id": "7rjkEn9LJ0kh"
      },
      "source": [
        "# Three test cases: dll_a of length 0, dll_b of length 1, dll_c of length 10\n",
        "dll_a= DoublyLinkedList()\n",
        "dll_b= DoublyLinkedList()\n",
        "dll_c= DoublyLinkedList() \n",
        "data= ['Monday','Tuesday','Wednesday','Thursday','Friday','Saturday','Sunday',1,2,3]\n",
        "for i in range(1):                    \n",
        "  dll_b.add_el_end(data[i])       \n",
        "for i in range(len(data)):          \n",
        "  dll_c.add_el_end(data[i])"
      ],
      "execution_count": 9,
      "outputs": []
    },
    {
      "cell_type": "code",
      "metadata": {
        "colab": {
          "base_uri": "https://localhost:8080/"
        },
        "id": "Jz4vI8WgJ0o7",
        "outputId": "5278c974-cdf9-4225-c98b-397666168606"
      },
      "source": [
        "dll_a.display_contents()\n",
        "dll_a.del_el_value('Monday')\n",
        "dll_a.display_contents()"
      ],
      "execution_count": 10,
      "outputs": [
        {
          "output_type": "stream",
          "text": [
            "The linked list is Empty\n",
            "ERROR: The linked list is empty, as such, cannot have Monday in it\n",
            "The linked list is Empty\n"
          ],
          "name": "stdout"
        }
      ]
    },
    {
      "cell_type": "code",
      "metadata": {
        "colab": {
          "base_uri": "https://localhost:8080/"
        },
        "id": "XBKm47TpJ1LU",
        "outputId": "3d97d8cc-b47f-415c-8bdd-6031bf326d4e"
      },
      "source": [
        "dll_b.display_contents()\n",
        "dll_b.del_el_value('Monday')\n",
        "dll_b.display_contents()"
      ],
      "execution_count": 11,
      "outputs": [
        {
          "output_type": "stream",
          "text": [
            "Monday\n",
            "The linked list is Empty\n"
          ],
          "name": "stdout"
        }
      ]
    },
    {
      "cell_type": "code",
      "metadata": {
        "colab": {
          "base_uri": "https://localhost:8080/"
        },
        "id": "tK3Rc-tOJ6ve",
        "outputId": "421a8a26-0bf5-4473-b510-19e5029d9ea4"
      },
      "source": [
        "dll_c.display_contents()\n",
        "dll_c.del_el_value('Monday')\n",
        "dll_c.display_contents()"
      ],
      "execution_count": 12,
      "outputs": [
        {
          "output_type": "stream",
          "text": [
            "Monday <=> Tuesday <=> Wednesday <=> Thursday <=> Friday <=> Saturday <=> Sunday <=> 1 <=> 2 <=> 3\n",
            "Tuesday <=> Wednesday <=> Thursday <=> Friday <=> Saturday <=> Sunday <=> 1 <=> 2 <=> 3\n"
          ],
          "name": "stdout"
        }
      ]
    },
    {
      "cell_type": "code",
      "metadata": {
        "id": "y3TLLta_J6zo"
      },
      "source": [
        ""
      ],
      "execution_count": null,
      "outputs": []
    },
    {
      "cell_type": "markdown",
      "metadata": {
        "id": "nAHdwufNEjRG"
      },
      "source": [
        "**1.1 Write code to remove duplicates from an unsorted linked list. FOLLOW UP: How would you solve this problem if a temporary buffer is not allowed?**"
      ]
    },
    {
      "cell_type": "code",
      "metadata": {
        "id": "jPjg0Xtj2kja"
      },
      "source": [
        ""
      ],
      "execution_count": null,
      "outputs": []
    },
    {
      "cell_type": "markdown",
      "metadata": {
        "id": "hp0ILDbk2k3v"
      },
      "source": [
        "--------------------------------------------------------------------------<<<<<<< Code Test >>>>>>> -----------------------------------------------------------------------------"
      ]
    },
    {
      "cell_type": "code",
      "metadata": {
        "id": "FG4rbVBp2lH1"
      },
      "source": [
        ""
      ],
      "execution_count": null,
      "outputs": []
    },
    {
      "cell_type": "markdown",
      "metadata": {
        "id": "MlKk-ck42H77"
      },
      "source": [
        "**1.2 Implement an algorithm to find the kth to last element of a singly linked list (assume that you are not given the size of the linked list).**"
      ]
    },
    {
      "cell_type": "code",
      "metadata": {
        "id": "v48699pcm9pU"
      },
      "source": [
        "class Sll_Problem2(SinglyLinkedList):\n",
        "\n",
        "  def kth_to_last_el_1(self,k):     # k is positive\n",
        "    # The kth to last element is the (len+1-k) the element of the linked list\n",
        "    # [St.1] Calculate the length of the linked list\n",
        "    len= self.calculate_length()\n",
        "    if len == 0:\n",
        "      return (print('ERROR: The linked list is Empty'))\n",
        "    if k > len:\n",
        "      return (print('ERROR: k= {} is greater than length= {} of the linked list'.format(k,len)))\n",
        "    # [St.2] Go to the target i.e., (len+1-k)th node. Stating from the head node, it can be reached in (len-k) steps \n",
        "    target_node= self.head\n",
        "    for i in range(len-k):\n",
        "      target_node= target_node.next\n",
        "    \n",
        "    return (target_node.data)\n",
        "    # This method requires traversing the linked list twice (calculating the length & going to the target node)\n",
        "\n",
        "  def kth_to_last_el_2(self,k):     # k is positive\n",
        " \n",
        "    if self.head == None:\n",
        "      return (print('ERROR: The linked list is Empty'))   \n",
        "    \n",
        "    # [St.1] Create 2 pointers and keep them k nodes apart\n",
        "    left_pointer = self.head\n",
        "    right_pointer= self.head \n",
        "    for i in range(k-1):\n",
        "      right_pointer= right_pointer.next\n",
        "      if right_pointer == None:\n",
        "        return (print('ERROR: k= {} is greater than the length of the linked list'.format(k)))\n",
        "    # [St.2] Move both the pointers one step at a time. When the right pointer reaches the end, the left pointer reaches the target node. \n",
        "    while right_pointer.next != None:\n",
        "      right_pointer= right_pointer.next\n",
        "      left_pointer = left_pointer.next\n",
        "    \n",
        "    return (left_pointer.data)"
      ],
      "execution_count": null,
      "outputs": []
    },
    {
      "cell_type": "markdown",
      "metadata": {
        "id": "9zy97pC22mQH"
      },
      "source": [
        "--------------------------------------------------------------------------<<<<<<< Code Test >>>>>>> -----------------------------------------------------------------------------"
      ]
    },
    {
      "cell_type": "code",
      "metadata": {
        "id": "NyprPj0vEGeY"
      },
      "source": [
        "# Three test cases: sll_a of length 0, sll_b of length 1, sll_c of length 10\n",
        "sll_a= Sll_Problem2()\n",
        "sll_b= Sll_Problem2()\n",
        "sll_c= Sll_Problem2() \n",
        "data= ['Monday','Tuesday','Wednesday','Thursday','Friday','Saturday','Sunday',1,2,3]\n",
        "for i in range(1):                    \n",
        "  sll_b.add_el_end(data[i])       \n",
        "for i in range(len(data)):          \n",
        "  sll_c.add_el_end(data[i])"
      ],
      "execution_count": null,
      "outputs": []
    },
    {
      "cell_type": "code",
      "metadata": {
        "colab": {
          "base_uri": "https://localhost:8080/"
        },
        "id": "JHdVDAR-I-yO",
        "outputId": "306a2a4d-a6e1-406a-be33-ea644832d055"
      },
      "source": [
        "sll_a.kth_to_last_el_2(4)"
      ],
      "execution_count": null,
      "outputs": [
        {
          "output_type": "stream",
          "text": [
            "ERROR: The linked list is Empty\n"
          ],
          "name": "stdout"
        }
      ]
    },
    {
      "cell_type": "code",
      "metadata": {
        "colab": {
          "base_uri": "https://localhost:8080/"
        },
        "id": "Q_adrkOcI-6o",
        "outputId": "254699d7-6c9e-470e-f7c7-ff0cb0c979dc"
      },
      "source": [
        "sll_b.kth_to_last_el_2(4)"
      ],
      "execution_count": null,
      "outputs": [
        {
          "output_type": "stream",
          "text": [
            "ERROR: k= 4 is greater than the length of the linked list\n"
          ],
          "name": "stdout"
        }
      ]
    },
    {
      "cell_type": "code",
      "metadata": {
        "colab": {
          "base_uri": "https://localhost:8080/",
          "height": 35
        },
        "id": "RMDwsZ0bJrD2",
        "outputId": "e2d7b04c-1998-4cee-f3f8-752974bfeddb"
      },
      "source": [
        "sll_c.kth_to_last_el_2(4)"
      ],
      "execution_count": null,
      "outputs": [
        {
          "output_type": "execute_result",
          "data": {
            "application/vnd.google.colaboratory.intrinsic+json": {
              "type": "string"
            },
            "text/plain": [
              "'Sunday'"
            ]
          },
          "metadata": {
            "tags": []
          },
          "execution_count": 45
        }
      ]
    },
    {
      "cell_type": "code",
      "metadata": {
        "id": "0QZjPhXuJrKW"
      },
      "source": [
        ""
      ],
      "execution_count": null,
      "outputs": []
    },
    {
      "cell_type": "markdown",
      "metadata": {
        "id": "Bui8ugUr2IHO"
      },
      "source": [
        "**1.3 Implement an algorithm to delete a node in the middle of a singly linked list, given only access to that node (e.g., INPUT: the node c from the linked list a->b->c->d->e OUTPUT: nothing is returned, but the new linked list looks like a->b->d->e)**"
      ]
    },
    {
      "cell_type": "code",
      "metadata": {
        "id": "ouYNgP-w2nOV"
      },
      "source": [
        ""
      ],
      "execution_count": null,
      "outputs": []
    },
    {
      "cell_type": "markdown",
      "metadata": {
        "id": "lMgPS4l62nW7"
      },
      "source": [
        "--------------------------------------------------------------------------<<<<<<< Code Test >>>>>>> -----------------------------------------------------------------------------"
      ]
    },
    {
      "cell_type": "code",
      "metadata": {
        "id": "HdI7ZXwd2nd8"
      },
      "source": [
        ""
      ],
      "execution_count": null,
      "outputs": []
    },
    {
      "cell_type": "markdown",
      "metadata": {
        "id": "eAJtt5KC2IUN"
      },
      "source": [
        "**1.4 Write code to partition a linked list around a value x, such that all nodes less than x come before all nodes greater than or equal to x.**"
      ]
    },
    {
      "cell_type": "code",
      "metadata": {
        "id": "ci4WnL8f2oJj"
      },
      "source": [
        ""
      ],
      "execution_count": null,
      "outputs": []
    },
    {
      "cell_type": "markdown",
      "metadata": {
        "id": "LdBfHFVa2oUr"
      },
      "source": [
        "--------------------------------------------------------------------------<<<<<<< Code Test >>>>>>> -----------------------------------------------------------------------------"
      ]
    },
    {
      "cell_type": "code",
      "metadata": {
        "id": "7SfoPXz82odC"
      },
      "source": [
        ""
      ],
      "execution_count": null,
      "outputs": []
    },
    {
      "cell_type": "markdown",
      "metadata": {
        "id": "J5bAiuMo2IiG"
      },
      "source": [
        "**1.5 Implement an algorithm to determine if a string has all unique characters. What if you cannot use additional data structures?**"
      ]
    },
    {
      "cell_type": "code",
      "metadata": {
        "id": "oYA9a1iT2o-k"
      },
      "source": [
        ""
      ],
      "execution_count": null,
      "outputs": []
    },
    {
      "cell_type": "markdown",
      "metadata": {
        "id": "3GLow2572pHd"
      },
      "source": [
        "--------------------------------------------------------------------------<<<<<<< Code Test >>>>>>> -----------------------------------------------------------------------------"
      ]
    },
    {
      "cell_type": "code",
      "metadata": {
        "id": "dprjZOna2pQg"
      },
      "source": [
        ""
      ],
      "execution_count": null,
      "outputs": []
    },
    {
      "cell_type": "markdown",
      "metadata": {
        "id": "5PEOGFm52Itr"
      },
      "source": [
        "**1.6 Implement an algorithm to determine if a string has all unique characters. What if you cannot use additional data structures?**"
      ]
    },
    {
      "cell_type": "code",
      "metadata": {
        "id": "ozYK4fwE2p7s"
      },
      "source": [
        ""
      ],
      "execution_count": null,
      "outputs": []
    },
    {
      "cell_type": "markdown",
      "metadata": {
        "id": "P47JYsGP2qGW"
      },
      "source": [
        "--------------------------------------------------------------------------<<<<<<< Code Test >>>>>>> -----------------------------------------------------------------------------"
      ]
    },
    {
      "cell_type": "code",
      "metadata": {
        "id": "i_rr9Ha_2qPE"
      },
      "source": [
        ""
      ],
      "execution_count": null,
      "outputs": []
    },
    {
      "cell_type": "markdown",
      "metadata": {
        "id": "asVRm03j2I6F"
      },
      "source": [
        "**1.7 Implement a function to check if a linked list is a palindrome.**"
      ]
    },
    {
      "cell_type": "code",
      "metadata": {
        "id": "Jgef2U-K2qw7"
      },
      "source": [
        "class Sll_Problem7(SinglyLinkedList):\n",
        "\n",
        "  def is_palindrome(self):\n",
        "\n",
        "    slow_pointer= self.head\n",
        "    fast_pointer= self.head\n",
        "\n",
        "    while (fast_pointer != None and fast_pointer.next != None):\n",
        "      fast_pointer= fast_pointer.next.next\n",
        "      slow_pointer= slow_pointer.next  \n",
        "\n",
        "    if fast_pointer != None:\n",
        "      slow_pointer= slow_pointer.next\n",
        "    \n",
        "    \n",
        "\n",
        "    \n",
        "    return (slow_pointer.data)\n",
        "\n",
        "\n",
        "\n"
      ],
      "execution_count": null,
      "outputs": []
    },
    {
      "cell_type": "markdown",
      "metadata": {
        "id": "4q4UciDY2q7G"
      },
      "source": [
        "--------------------------------------------------------------------------<<<<<<< Code Test >>>>>>> -----------------------------------------------------------------------------"
      ]
    },
    {
      "cell_type": "code",
      "metadata": {
        "id": "6-yucdtG2rDO"
      },
      "source": [
        "# Three test cases: sll_a of length 0, sll_b of length 1, sll_c of length 10\n",
        "sll_a= Sll_Problem7()\n",
        "sll_b= Sll_Problem7()\n",
        "sll_c= Sll_Problem7() \n",
        "sll_d= Sll_Problem7() \n",
        "data1= ['a','b','c','b','a']\n",
        "data2= ['a','b','c','c','a']\n",
        "data3= ['a','b','c','c','b','a']\n",
        "data4= ['a','b','c','d','b','a']\n",
        "      \n",
        "for i in range(len(data1)):          \n",
        "  sll_a.add_el_end(data1[i])\n",
        "  sll_b.add_el_end(data2[i])\n",
        "for i in range(len(data3)):  \n",
        "  sll_c.add_el_end(data3[i])\n",
        "  sll_d.add_el_end(data4[i])"
      ],
      "execution_count": null,
      "outputs": []
    },
    {
      "cell_type": "code",
      "metadata": {
        "id": "SX1hfN8M2tsP",
        "colab": {
          "base_uri": "https://localhost:8080/",
          "height": 35
        },
        "outputId": "74f91dc8-18a8-4504-ab6a-1855297a14f6"
      },
      "source": [
        "sll_c.is_palindrome()"
      ],
      "execution_count": null,
      "outputs": [
        {
          "output_type": "execute_result",
          "data": {
            "application/vnd.google.colaboratory.intrinsic+json": {
              "type": "string"
            },
            "text/plain": [
              "'c'"
            ]
          },
          "metadata": {
            "tags": []
          },
          "execution_count": 28
        }
      ]
    },
    {
      "cell_type": "code",
      "metadata": {
        "id": "LtomXzO6JRP0"
      },
      "source": [
        ""
      ],
      "execution_count": null,
      "outputs": []
    },
    {
      "cell_type": "code",
      "metadata": {
        "id": "RGNVZA2zJRTL"
      },
      "source": [
        ""
      ],
      "execution_count": null,
      "outputs": []
    },
    {
      "cell_type": "code",
      "metadata": {
        "id": "xXFD2ypJJRmt"
      },
      "source": [
        ""
      ],
      "execution_count": null,
      "outputs": []
    }
  ]
}