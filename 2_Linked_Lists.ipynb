{
  "nbformat": 4,
  "nbformat_minor": 0,
  "metadata": {
    "colab": {
      "name": "2. Linked Lists.ipynb",
      "provenance": [],
      "collapsed_sections": [
        "7M79p0nzLbMp",
        "uKq-Ozdkzt3u"
      ]
    },
    "kernelspec": {
      "name": "python3",
      "display_name": "Python 3"
    },
    "language_info": {
      "name": "python"
    }
  },
  "cells": [
    {
      "cell_type": "markdown",
      "metadata": {
        "id": "SEGkjiXZLFIX"
      },
      "source": [
        "Linked List is not a built-in data structure in Python, as such, one must first know how to create a (singly, doubly, continuous) linked list from scratch.\n",
        "\n",
        "**SLL Example:** Monday   ->   Tuesday -> Wednesday -> Thursday -> Friday -> Saturday -> Sunday -> 1 -> 2 -> 3\n",
        "\n",
        "**DLL Example:** Monday <=> Tuesday <=> Wednesday <=> Thursday <=> Friday <=> Saturday <=> Sunday <=> 1 <=> 2 <=> 3"
      ]
    },
    {
      "cell_type": "markdown",
      "metadata": {
        "id": "7M79p0nzLbMp"
      },
      "source": [
        "# Singly linked list from scratch:-------------------------------------------------------------------------"
      ]
    },
    {
      "cell_type": "code",
      "metadata": {
        "id": "tayIEG7iLgt1"
      },
      "source": [
        "class NodeSll:                      # In a Singly linked list, each node contains data, and a reference to its next node               \n",
        "  def __init__(self,data):\n",
        "    self.data= data                 # When a new node is created, only the data contained in that node is specified\n",
        "    self.next= None                 # The reference to the next node is specified at the time of linking the nodes together    "
      ],
      "execution_count": 1,
      "outputs": []
    },
    {
      "cell_type": "code",
      "metadata": {
        "id": "_MCsUiwzMtGp"
      },
      "source": [
        "class SinglyLinkedList:\n",
        "\n",
        "  def __init__(self):               # When the SinglyLinkedList class is instantiated, it will create an Empty linked list\n",
        "    self.head= None\n",
        "  \n",
        "\n",
        "  # Preliminary functions/methods related to Singly linked lists:\n",
        "\n",
        "\n",
        "  def calculate_length(self):       # METHOD: Calculate the length/size of the singly linked list\n",
        "    if self.head == None:\n",
        "      return (0)\n",
        "    count= 0\n",
        "    last_node= self.head\n",
        "    while last_node != None:\n",
        "      count+= 1\n",
        "      last_node= last_node.next\n",
        "    return (count)\n",
        "\n",
        "  def display_contents(self):       # METHOD: Display the contents of the singly linked list\n",
        "    if self.head == None:\n",
        "      return (print('The linked list is Empty'))\n",
        "    l= []\n",
        "    current_node= self.head\n",
        "    while current_node != None:\n",
        "      l.append(str(current_node.data))\n",
        "      current_node= current_node.next\n",
        "    return (print(' -> '.join(l)))\n",
        "\n",
        "  def reverse_inplace(self):        # METHOD: Reverse the singly linked list inplace\n",
        "    # Head -> a|b -> b|c -> c|d -> d|Null\n",
        "    # a|Null <- b|a <- c|b <- d|c <- Head \n",
        "    prev= None\n",
        "    current_node= self.head\n",
        "    while current_node != None:\n",
        "      temp= current_node.next\n",
        "      current_node.next= prev\n",
        "      prev= current_node\n",
        "      current_node= temp\n",
        "    self.head= prev\n",
        "\n",
        "\n",
        "  # Functions/methods for adding Nodes to a Singly linked list (beginning, end, in between):\n",
        "\n",
        "\n",
        "  def add_node_begin(self,data):    # METHOD: Add a new node at the beginning of the singly linked list \n",
        "    # [St.1] Create a new node containing the given data\n",
        "    new_node= NodeSll(data)\n",
        "    # [St.2] Set next of the new node (which is right now None) to the current head of the linked list. If the linked list is Empty, no problem, next is set to None again which simply means that it becomes the last (and only) node of the linked list.\n",
        "    new_node.next= self.head\n",
        "    # [St.3] Set the head of the linked list to the new node. Done.\n",
        "    self.head= new_node\n",
        "\n",
        "  def add_node_end(self,data):      # METHOD: Add a new node at the end of the singly linked list \n",
        "    # [St.1] Create a new node containing the given data\n",
        "    new_node= NodeSll(data)\n",
        "    # [St.2] Go to the last node of the linked list\n",
        "    # NOTE: If the linked list is empty, last_node.next will give an ERROR. So, a special case for an Empty linked list is required. In that case, the new node  simply becomes the head of the linked list and thats it.\n",
        "    if self.head == None:\n",
        "      self.head= new_node\n",
        "      return\n",
        "    last_node= self.head\n",
        "    while last_node.next != None:\n",
        "      last_node= last_node.next\n",
        "    # [St.3] Once the last node is reached, simply change its next from None to the new node. Done.\n",
        "    last_node.next= new_node\n",
        "\n",
        "  def add_node_after(self,data,x):  # METHOD: Add a new node after a particular node (node with data (x)) in the singly linked list\n",
        "    # [St.0] If the linked list is Empty, it cant have (x) in it \n",
        "    if self.head == None:\n",
        "      return (print('ERROR: The linked list is Empty, as such cannot have {} in it'.format(x)))\n",
        "    # [St.1] Go to the target node which in this case is the node with data (x). We didnt create the new node at the outset because if we cant find (x), we dont have to add anything.\n",
        "    target_node= self.head\n",
        "    while target_node != None:\n",
        "    # [St.2] If the node with data (x) is found, create a new node containing the given data. Then, set next of the new node to the current next of the identified target node and the next of the identified target node to the new node. Done.  \n",
        "      if target_node.data == x:\n",
        "        new_node= NodeSll(data)\n",
        "        new_node.next= target_node.next\n",
        "        target_node.next= new_node\n",
        "        return\n",
        "      target_node= target_node.next\n",
        "    # [St.3] If target_node reaches None, this means that the entire linked list was traversed and (x) was not found \n",
        "    if target_node == None:\n",
        "      return (print('ERROR: Reached the end of the linked list but could not find {} in it.'.format(x)))\n",
        "      \n",
        "  def add_node_before(self,data,x): # METHOD: Add a new node before a particular node (node with data (x)) in the singly linked list\n",
        "    # [St.0] If the linked list is Empty, it cant have (x) in it \n",
        "    if self.head == None:\n",
        "      return (print('ERROR: The linked list is Empty, as such cannot have {} in it'.format(x)))\n",
        "    # If we still call the node with data (x) as the target node, the node just before the identified target node needs to be modified\n",
        "    # Since it is a Singly linked list, we can only traverse in the forward direction. As such, we cannot go to the node having data (x) and then take a step backwards.\n",
        "    # This problem will be tackled by having a pointer that trails behind the target node by one step\n",
        "    # An edge case arises when the 1st node itself has the data (x)\n",
        "    if self.head.data == x:\n",
        "      new_node= NodeSll(data)\n",
        "      new_node.next= self.head\n",
        "      self.head= new_node\n",
        "      return\n",
        "    # [St.1] Go to the target node and create a pointer that lags behind the target node by one step\n",
        "    target_node= self.head\n",
        "    while target_node != None:\n",
        "      node_to_be_mod= target_node\n",
        "      target_node= target_node.next\n",
        "    # [St.2] If target node reaches None, this means that the entire linked list was traversed and (x) was not found \n",
        "      if target_node == None:\n",
        "        return (print('ERROR: Reached the end of the linked list but could not find {} in it.'.format(x)))\n",
        "    # [St.3] If the node with data (x) is found, create a new node containing the given data. Then, set next of the new node to the target node and the next of node_to_be_modified to the new node. Done.    \n",
        "      if target_node.data == x:\n",
        "        new_node= NodeSll(data)\n",
        "        new_node.next= node_to_be_mod.next\n",
        "        node_to_be_mod.next= new_node\n",
        "        return\n",
        "\n",
        "\n",
        "  # Functions/methods for deleting Nodes from a Singly linked list (beginning, end, in between):\n",
        "\n",
        "\n",
        "  def del_node_begin(self):         # METHOD: Delete the 1st node of the singly linked list\n",
        "    # [St.0] If the linked list is Empty, there is nothing to delete in it\n",
        "    if self.head == None:\n",
        "      return (print('ERROR: The linked list is Empty, as such, has nothing to delete in it'))\n",
        "    # [St.1] The 1st node can be removed from the linked list by simply pointing the head to the second node    \n",
        "    self.head= self.head.next\n",
        "\n",
        "  def del_node_end(self):           # METHOD: Delete the last node of the singly linked list\n",
        "    # [St.0] If the linked list is Empty, there is nothing to delete in it\n",
        "    if self.head == None:\n",
        "      return (print('ERROR: The linked list is Empty, as such, has nothing to delete in it'))\n",
        "    # [St.1] Go to the target node which in this case is the second last node\n",
        "    # An edge case arises when there is only one node in the linked list. In that case, just set the head of the linked list to None. Done.\n",
        "    if self.head.next == None:\n",
        "      self.head= None\n",
        "      return\n",
        "    target_node= self.head\n",
        "    while target_node.next.next != None:\n",
        "      target_node= target_node.next\n",
        "    # [St.2] Set next of the identified target node to None and we are done\n",
        "    target_node.next= None\n",
        "\n",
        "  def del_node_value(self,x):       # METHOD: Delete a particular node (node with data (x)) of the singly linked list\n",
        "    # [St.0] If the linked list is Empty, it cant have (x) in it \n",
        "    if self.head == None:\n",
        "      return (print('ERROR: The linked list is empty, as such, cannot have {} in it'.format(x)))\n",
        "    # [St.1] Go to the target node and create a pointer that lags behind the target node by one step\n",
        "    # An edge case arises when the 1st node itself has the data (x)\n",
        "    if self.head.data == x:\n",
        "      self.head= self.head.next\n",
        "      return\n",
        "    target_node= self.head\n",
        "    while target_node != None:\n",
        "      node_to_be_mod= target_node\n",
        "      target_node= target_node.next\n",
        "    # [St.2] If target node reaches None, this means that the entire linked list was traversed and (x) was not found \n",
        "      if target_node == None:\n",
        "        return (print('ERROR: Reached the end of the linked list but could not find {} in it.'.format(x)))\n",
        "    # [St.3] [St.3] If the node with data (x) is found, bypass the target node i.e., set the next of the node_to_be_modified to the next of the target node. Done. \n",
        "      if target_node.data == x:\n",
        "        node_to_be_mod.next= target_node.next\n",
        "        return"
      ],
      "execution_count": 2,
      "outputs": []
    },
    {
      "cell_type": "markdown",
      "metadata": {
        "id": "S5EyBB_nyf4W"
      },
      "source": [
        "--------------------------------------------------------------------------<<<<<<< Code Test >>>>>>> -----------------------------------------------------------------------------"
      ]
    },
    {
      "cell_type": "code",
      "metadata": {
        "id": "JeVcHAPfybmm"
      },
      "source": [
        "# 3 test cases – Empty sll, sll of length 1, sll of length L\n",
        "sll_a= SinglyLinkedList()\n",
        "sll_b= SinglyLinkedList()\n",
        "sll_c= SinglyLinkedList() \n",
        "data= ['Monday','Tuesday','Wednesday','Thursday','Friday','Saturday','Sunday',1,2,3]\n",
        "for i in range(1):                    \n",
        "  sll_b.add_node_end(data[i])       \n",
        "for i in range(len(data)):          \n",
        "  sll_c.add_node_end(data[i])"
      ],
      "execution_count": 3,
      "outputs": []
    },
    {
      "cell_type": "code",
      "metadata": {
        "colab": {
          "base_uri": "https://localhost:8080/"
        },
        "id": "Q8FzDHobymT8",
        "outputId": "ff5e6dd7-8484-41da-88e1-2950c5843b85"
      },
      "source": [
        "# Empty Singly Linked List:\n",
        "print('\\033[1m'+'Original:'+'\\033[0m')\n",
        "sll_a.display_contents()\n",
        "print('\\033[1m'+'Length= '+'\\033[0m'+'{}'.format(sll_a.calculate_length()))\n",
        "print('\\033[1m'+'Reversed:'+'\\033[0m')\n",
        "sll_a.reverse_inplace()                  ; sll_a.display_contents()\n",
        "print('\\033[1m'+'Modified:'+'\\033[0m')\n",
        "sll_a.del_node_begin()                   ; sll_a.display_contents()\n",
        "sll_a.del_node_end()                     ; sll_a.display_contents()\n",
        "sll_a.del_node_value('Monday')           ; sll_a.display_contents()\n",
        "sll_a.add_node_after('NewNA','Monday')   ; sll_a.display_contents()\n",
        "sll_a.add_node_before('NewNB','Monday')  ; sll_a.display_contents()\n",
        "sll_a.add_node_begin('NewNS')            ; sll_a.display_contents()"
      ],
      "execution_count": 4,
      "outputs": [
        {
          "output_type": "stream",
          "text": [
            "\u001b[1mOriginal:\u001b[0m\n",
            "The linked list is Empty\n",
            "\u001b[1mLength= \u001b[0m0\n",
            "\u001b[1mReversed:\u001b[0m\n",
            "The linked list is Empty\n",
            "\u001b[1mModified:\u001b[0m\n",
            "ERROR: The linked list is Empty, as such, has nothing to delete in it\n",
            "The linked list is Empty\n",
            "ERROR: The linked list is Empty, as such, has nothing to delete in it\n",
            "The linked list is Empty\n",
            "ERROR: The linked list is empty, as such, cannot have Monday in it\n",
            "The linked list is Empty\n",
            "ERROR: The linked list is Empty, as such cannot have Monday in it\n",
            "The linked list is Empty\n",
            "ERROR: The linked list is Empty, as such cannot have Monday in it\n",
            "The linked list is Empty\n",
            "NewNS\n"
          ],
          "name": "stdout"
        }
      ]
    },
    {
      "cell_type": "code",
      "metadata": {
        "colab": {
          "base_uri": "https://localhost:8080/"
        },
        "id": "b6EbTSVWy26w",
        "outputId": "1ad87f81-10bf-427a-87b7-1a192f546c0f"
      },
      "source": [
        "# Singly Linked List of length = 1:\n",
        "print('\\033[1m'+'Original:'+'\\033[0m')\n",
        "sll_b.display_contents()\n",
        "print('\\033[1m'+'Length= '+'\\033[0m'+'{}'.format(sll_b.calculate_length()))\n",
        "print('\\033[1m'+'Reversed:'+'\\033[0m')\n",
        "sll_b.reverse_inplace()               ; sll_b.display_contents()\n",
        "print('\\033[1m'+'Modified:'+'\\033[0m')\n",
        "sll_b.add_node_after('NewNA','Monday')  ; sll_b.display_contents()\n",
        "sll_b.add_node_after('NewNA','Tuesday') ; sll_b.display_contents()\n",
        "sll_b.add_node_before('NewNB','Monday') ; sll_b.display_contents()\n",
        "sll_b.add_node_before('NewNB','Tuesday'); sll_b.display_contents()\n",
        "sll_b.add_node_begin('NewNS')           ; sll_b.display_contents()\n",
        "sll_b.del_node_begin()                  ; sll_b.display_contents()\n",
        "sll_b.del_node_end()                    ; sll_b.display_contents()\n",
        "sll_b.del_node_value('Monday')          ; sll_b.display_contents()\n",
        "sll_b.del_node_value('Tuesday')         ; sll_b.display_contents()"
      ],
      "execution_count": 5,
      "outputs": [
        {
          "output_type": "stream",
          "text": [
            "\u001b[1mOriginal:\u001b[0m\n",
            "Monday\n",
            "\u001b[1mLength= \u001b[0m1\n",
            "\u001b[1mReversed:\u001b[0m\n",
            "Monday\n",
            "\u001b[1mModified:\u001b[0m\n",
            "Monday -> NewNA\n",
            "ERROR: Reached the end of the linked list but could not find Tuesday in it.\n",
            "Monday -> NewNA\n",
            "NewNB -> Monday -> NewNA\n",
            "ERROR: Reached the end of the linked list but could not find Tuesday in it.\n",
            "NewNB -> Monday -> NewNA\n",
            "NewNS -> NewNB -> Monday -> NewNA\n",
            "NewNB -> Monday -> NewNA\n",
            "NewNB -> Monday\n",
            "NewNB\n",
            "ERROR: Reached the end of the linked list but could not find Tuesday in it.\n",
            "NewNB\n"
          ],
          "name": "stdout"
        }
      ]
    },
    {
      "cell_type": "code",
      "metadata": {
        "colab": {
          "base_uri": "https://localhost:8080/"
        },
        "id": "jgcpg8bHzL4Y",
        "outputId": "fed29132-f97f-450c-9690-822d31aaf6bd"
      },
      "source": [
        "# Singly Linked List of length = L:\n",
        "print('\\033[1m'+'Original:'+'\\033[0m')\n",
        "sll_c.display_contents()\n",
        "print('\\033[1m'+'Length= '+'\\033[0m'+'{}'.format(sll_c.calculate_length()))\n",
        "print('\\033[1m'+'Reversed:'+'\\033[0m')\n",
        "sll_c.reverse_inplace()               ; sll_c.display_contents()\n",
        "print('\\033[1m'+'Modified:'+'\\033[0m')\n",
        "sll_c.add_node_begin('NewNS')           ; sll_c.display_contents()\n",
        "sll_c.add_node_after('NewNA','Monday')  ; sll_c.display_contents()\n",
        "sll_c.add_node_after('NewNA','Someday') ; sll_c.display_contents()\n",
        "sll_c.add_node_before('NewNB','Monday') ; sll_c.display_contents()\n",
        "sll_c.add_node_before('NewNB','Someday'); sll_c.display_contents()\n",
        "sll_c.del_node_begin()                  ; sll_c.display_contents()\n",
        "sll_c.del_node_end()                    ; sll_c.display_contents()\n",
        "sll_c.del_node_value('Monday')          ; sll_c.display_contents()\n",
        "sll_c.del_node_value('Someday')         ; sll_c.display_contents()"
      ],
      "execution_count": 6,
      "outputs": [
        {
          "output_type": "stream",
          "text": [
            "\u001b[1mOriginal:\u001b[0m\n",
            "Monday -> Tuesday -> Wednesday -> Thursday -> Friday -> Saturday -> Sunday -> 1 -> 2 -> 3\n",
            "\u001b[1mLength= \u001b[0m10\n",
            "\u001b[1mReversed:\u001b[0m\n",
            "3 -> 2 -> 1 -> Sunday -> Saturday -> Friday -> Thursday -> Wednesday -> Tuesday -> Monday\n",
            "\u001b[1mModified:\u001b[0m\n",
            "NewNS -> 3 -> 2 -> 1 -> Sunday -> Saturday -> Friday -> Thursday -> Wednesday -> Tuesday -> Monday\n",
            "NewNS -> 3 -> 2 -> 1 -> Sunday -> Saturday -> Friday -> Thursday -> Wednesday -> Tuesday -> Monday -> NewNA\n",
            "ERROR: Reached the end of the linked list but could not find Someday in it.\n",
            "NewNS -> 3 -> 2 -> 1 -> Sunday -> Saturday -> Friday -> Thursday -> Wednesday -> Tuesday -> Monday -> NewNA\n",
            "NewNS -> 3 -> 2 -> 1 -> Sunday -> Saturday -> Friday -> Thursday -> Wednesday -> Tuesday -> NewNB -> Monday -> NewNA\n",
            "ERROR: Reached the end of the linked list but could not find Someday in it.\n",
            "NewNS -> 3 -> 2 -> 1 -> Sunday -> Saturday -> Friday -> Thursday -> Wednesday -> Tuesday -> NewNB -> Monday -> NewNA\n",
            "3 -> 2 -> 1 -> Sunday -> Saturday -> Friday -> Thursday -> Wednesday -> Tuesday -> NewNB -> Monday -> NewNA\n",
            "3 -> 2 -> 1 -> Sunday -> Saturday -> Friday -> Thursday -> Wednesday -> Tuesday -> NewNB -> Monday\n",
            "3 -> 2 -> 1 -> Sunday -> Saturday -> Friday -> Thursday -> Wednesday -> Tuesday -> NewNB\n",
            "ERROR: Reached the end of the linked list but could not find Someday in it.\n",
            "3 -> 2 -> 1 -> Sunday -> Saturday -> Friday -> Thursday -> Wednesday -> Tuesday -> NewNB\n"
          ],
          "name": "stdout"
        }
      ]
    },
    {
      "cell_type": "code",
      "metadata": {
        "id": "n7jPC7GfzgAt"
      },
      "source": [
        ""
      ],
      "execution_count": null,
      "outputs": []
    },
    {
      "cell_type": "markdown",
      "metadata": {
        "id": "uKq-Ozdkzt3u"
      },
      "source": [
        "# Doubly linked list from scratch:-----------------------------------------------------------------------"
      ]
    },
    {
      "cell_type": "code",
      "metadata": {
        "id": "b0r9iREUzxUW"
      },
      "source": [
        "class NodeDll:                      # In a Doubly linked list, each node contains data, a reference to its next node, and a reference to its previous node               \n",
        "  def __init__(self,data):\n",
        "    self.data= data                 # When a new node is created, only the data contained in that node is specified\n",
        "    self.next= None                 # The reference to the next node is specified at the time of linking the nodes together \n",
        "    self.prev= None                 # The reference to the prev node is specified at the time of linking the nodes together "
      ],
      "execution_count": 7,
      "outputs": []
    },
    {
      "cell_type": "code",
      "metadata": {
        "id": "ALZr4IW9z23u"
      },
      "source": [
        "class DoublyLinkedList:\n",
        "\n",
        "  def __init__(self):               # When the DoublyLinkedList class is instantiated, it will create an Empty linked list\n",
        "    self.head= None\n",
        "\n",
        "\n",
        "  # Preliminary functions/methods related to Doubly linked lists:\n",
        "\n",
        "\n",
        "  def calculate_length(self):       # METHOD: Calculate the length/size of the doubly linked list\n",
        "    if self.head == None:\n",
        "      return (0)\n",
        "    count= 0\n",
        "    last_node= self.head\n",
        "    while last_node != None:\n",
        "      count+= 1\n",
        "      last_node= last_node.next\n",
        "    return (count)\n",
        "\n",
        "  def display_contents(self):       # METHOD: Display the contents of the doubly linked list\n",
        "    if self.head == None:\n",
        "      return (print('The linked list is Empty'))\n",
        "    l= []\n",
        "    current_node= self.head\n",
        "    while current_node != None:\n",
        "      l.append(str(current_node.data))\n",
        "      current_node= current_node.next\n",
        "    return (print(' <=> '.join(l)))\n",
        "\n",
        "  # There is no point of reversing the contents of a Doubly linked list, so that function/method is omitted here.\n",
        "\n",
        "\n",
        "  # Functions/methods for adding Nodes to a Doubly linked list (beginning, end, in between):\n",
        "\n",
        "\n",
        "  def add_node_begin(self,data):    # METHOD: Add a new node at the beginning of the doubly linked list \n",
        "    # [St.1] Create a new node containing the given data\n",
        "    new_node= NodeDll(data)\n",
        "    # [St.2] Since it is a doubly linked list, two things need to be done: (1) Set next of the new node to the current head of the linked list (2) Set prev of the current head to the new node.\n",
        "    new_node.next= self.head\n",
        "    if self.head != None:\n",
        "      self.head.prev= new_node      \n",
        "    # [St.3] Set the head of the linked list to the new node. Done.\n",
        "    self.head= new_node\n",
        "\n",
        "  def add_node_end(self,data):      # METHOD: Add a new node at the end of the doubly linked list \n",
        "    # [St.1] Create a new node containing the given data\n",
        "    new_node= NodeDll(data)\n",
        "    # [St.2] Go to the last node of the linked list\n",
        "    # NOTE: If the linked list is empty, last_node.next will give an ERROR. So, a special case for an Empty linked list is required. In that case, the new node  simply becomes the head of the linked list and thats it.\n",
        "    if self.head == None:\n",
        "      self.head= new_node\n",
        "      return\n",
        "    last_node= self.head\n",
        "    while last_node.next != None:\n",
        "      last_node= last_node.next\n",
        "    # [St.3] Since it is a doubly linked list, two things need to be done once the last node is reached: (1) Set next of the last node to the new node (2) Set prev of the new node to the last node. Done. \n",
        "    last_node.next= new_node\n",
        "    new_node.prev= last_node\n",
        "\n",
        "  def add_node_after(self,data,x):  # METHOD: Add a new node after a particular node (node with data (x)) in the doubly linked list\n",
        "    # [St.0] If the linked list is Empty, it cant have (x) in it \n",
        "    if self.head == None:\n",
        "      return (print('ERROR: The linked list is Empty, as such cannot have {} in it'.format(x)))\n",
        "    # [St.1] Go to the target node which in this case is the node with data (x). We didnt create the new node at the outset because if we cant find (x), we dont have to add anything.\n",
        "    target_node= self.head\n",
        "    while target_node != None:\n",
        "    # [St.2] If the node with data (x) is found, create a new node containing the given data. \n",
        "    # Then, (1) Set next of the new node to the current next of the identified target node (2) Set prev of the new node to the identified target node (3) If the identified target node is not the last node, set prev of the target_node.next to the new node (4) Set next of the identified target node to the new node. Done.\n",
        "      if target_node.data == x:\n",
        "        new_node= NodeDll(data)\n",
        "        new_node.next= target_node.next\n",
        "        new_node.prev= target_node\n",
        "        if target_node.next != None:\n",
        "          target_node.next.prev= new_node\n",
        "        target_node.next= new_node\n",
        "        return\n",
        "      target_node= target_node.next\n",
        "    # [St.3] If target_node reaches None, this means that the entire linked list was traversed and (x) was not found \n",
        "    if target_node == None:\n",
        "      return (print('ERROR: Reached the end of the linked list but could not find {} in it.'.format(x)))\n",
        "      \n",
        "  def add_node_before(self,data,x): # METHOD: Add a new node before a particular node (node with data (x)) in the doubly linked list\n",
        "    # [St.0] If the linked list is Empty, it cant have (x) in it \n",
        "    if self.head == None:\n",
        "      return (print('ERROR: The linked list is Empty, as such cannot have {} in it'.format(x)))\n",
        "    # [St.1] Go to the target node which in this case is the node with data (x). We didnt create the new node at the outset because if we cant find (x), we dont have to add anything.\n",
        "    target_node= self.head\n",
        "    while target_node != None:\n",
        "    # [St.2] If the node with data (x) is found, create a new node containing the given data. \n",
        "    # Then, (1) Set next of the new node to the identified target node (2) Set prev of the new node to the current prev of the identified target node (3) If the identified target node is not the 1st node, set next of the target_node.prev to the new node (4) Set prev of the identified target node to the new node. Done.\n",
        "      if target_node.data == x:\n",
        "        new_node= NodeDll(data)\n",
        "        new_node.next= target_node\n",
        "        new_node.prev= target_node.prev\n",
        "        if target_node.prev != None:\n",
        "          target_node.prev.next= new_node\n",
        "        else:\n",
        "          self.head= new_node\n",
        "        target_node.prev= new_node\n",
        "        return\n",
        "      target_node= target_node.next\n",
        "    # [St.3] If target_node reaches None, this means that the entire linked list was traversed and (x) was not found \n",
        "    if target_node == None:\n",
        "      return (print('ERROR: Reached the end of the linked list but could not find {} in it.'.format(x)))\n",
        " \n",
        "\n",
        "  # Functions/methods for deleting Nodes from a Doubly linked list (beginning, end, in between):\n",
        "\n",
        "\n",
        "  def del_node_begin(self):         # METHOD: Delete the 1st node of the doubly linked list\n",
        "    # [St.0] If the linked list is Empty, there is nothing to delete in it\n",
        "    if self.head == None:\n",
        "      return (print('ERROR: The linked list is Empty, as such, has nothing to delete in it'))\n",
        "    # [St.1] The 1st node can be removed from the linked list by simply pointing the head to the second node    \n",
        "    self.head= self.head.next\n",
        "    # [St.2] In case the new head is not Null (it will be Null if the linked list had only one element), set prev of the new head to Null. \n",
        "    if self.head != None:\n",
        "      self.head.prev= None\n",
        "\n",
        "  def del_node_end(self):           # METHOD: Delete the last node of the doubly linked list\n",
        "    # [St.0] If the linked list is Empty, there is nothing to delete in it\n",
        "    if self.head == None:\n",
        "      return (print('ERROR: The linked list is Empty, as such, has nothing to delete in it'))\n",
        "    # [St.1] Go to the target node which in this case is the second last node\n",
        "    # An edge case arises when there is only one node in the linked list. In that case, just set the head of the linked list to None. Done.\n",
        "    if self.head.next == None:\n",
        "      self.head= None\n",
        "      return\n",
        "    target_node= self.head\n",
        "    while target_node.next.next != None:\n",
        "      target_node= target_node.next\n",
        "    # [St.2] Set next of the identified target node to None and we are done\n",
        "    target_node.next= None\n",
        "\n",
        "  def del_node_value(self,x):       # METHOD: Delete a particular node (node with data (x)) of the doubly linked list\n",
        "    # [St.0] If the linked list is Empty, it cant have (x) in it \n",
        "    if self.head == None:\n",
        "      return (print('ERROR: The linked list is empty, as such, cannot have {} in it'.format(x)))\n",
        "    # [St.1] Go to the target node which in this case is the node with data (x).\n",
        "    target_node= self.head\n",
        "    while target_node != None:\n",
        "    # [St.2] If the node with data (x) is found, then:\n",
        "      if target_node.data == x:\n",
        "        if target_node.prev != None:# if the target node is not the 1st node, do this\n",
        "          target_node.prev.next= target_node.next\n",
        "        else:                       # if the target node is the 1st node, do this\n",
        "          self.head= self.head.next\n",
        "          if self.head != None:\n",
        "            self.head.prev= None\n",
        "        if target_node.next != None:# if the target node is not the last node, do this. If it is the last node, nothing needs to be done.\n",
        "          target_node.next.prev= target_node.prev\n",
        "        return\n",
        "      target_node= target_node.next\n",
        "    # [St.3] If target_node reaches None, this means that the entire linked list was traversed and (x) was not found \n",
        "    if target_node == None:\n",
        "      return (print('ERROR: Reached the end of the linked list but could not find {} in it.'.format(x)))"
      ],
      "execution_count": 8,
      "outputs": []
    },
    {
      "cell_type": "markdown",
      "metadata": {
        "id": "VO2I4ih8z_nC"
      },
      "source": [
        "--------------------------------------------------------------------------<<<<<<< Code Test >>>>>>> -----------------------------------------------------------------------------"
      ]
    },
    {
      "cell_type": "code",
      "metadata": {
        "id": "0XOETmWOz94R"
      },
      "source": [
        "# 3 test cases: Empty dll, dll of length 1, dll of length L\n",
        "dll_a= DoublyLinkedList()\n",
        "dll_b= DoublyLinkedList()\n",
        "dll_c= DoublyLinkedList() \n",
        "data= ['Monday','Tuesday','Wednesday','Thursday','Friday','Saturday','Sunday',1,2,3]\n",
        "for i in range(1):                    \n",
        "  dll_b.add_node_end(data[i])       \n",
        "for i in range(len(data)):          \n",
        "  dll_c.add_node_end(data[i])"
      ],
      "execution_count": 9,
      "outputs": []
    },
    {
      "cell_type": "code",
      "metadata": {
        "colab": {
          "base_uri": "https://localhost:8080/"
        },
        "id": "Pcu90S7D0HZC",
        "outputId": "b4dadd68-d6d7-4c56-f15f-c2847b03222f"
      },
      "source": [
        "# Empty Doubly Linked List:\n",
        "print('\\033[1m'+'Original:'+'\\033[0m')\n",
        "dll_a.display_contents()\n",
        "print('\\033[1m'+'Length= '+'\\033[0m'+'{}'.format(dll_a.calculate_length()))\n",
        "print('\\033[1m'+'Modified:'+'\\033[0m')\n",
        "dll_a.add_node_after('NewNA','Monday')   ; dll_a.display_contents()\n",
        "dll_a.add_node_before('NewNB','Monday')  ; dll_a.display_contents()\n",
        "dll_a.del_node_begin()                   ; dll_a.display_contents()\n",
        "dll_a.del_node_end()                     ; dll_a.display_contents()\n",
        "dll_a.del_node_value('Monday')           ; dll_a.display_contents()\n",
        "dll_a.add_node_begin('NewNS')            ; dll_a.display_contents()"
      ],
      "execution_count": 10,
      "outputs": [
        {
          "output_type": "stream",
          "text": [
            "\u001b[1mOriginal:\u001b[0m\n",
            "The linked list is Empty\n",
            "\u001b[1mLength= \u001b[0m0\n",
            "\u001b[1mModified:\u001b[0m\n",
            "ERROR: The linked list is Empty, as such cannot have Monday in it\n",
            "The linked list is Empty\n",
            "ERROR: The linked list is Empty, as such cannot have Monday in it\n",
            "The linked list is Empty\n",
            "ERROR: The linked list is Empty, as such, has nothing to delete in it\n",
            "The linked list is Empty\n",
            "ERROR: The linked list is Empty, as such, has nothing to delete in it\n",
            "The linked list is Empty\n",
            "ERROR: The linked list is empty, as such, cannot have Monday in it\n",
            "The linked list is Empty\n",
            "NewNS\n"
          ],
          "name": "stdout"
        }
      ]
    },
    {
      "cell_type": "code",
      "metadata": {
        "colab": {
          "base_uri": "https://localhost:8080/"
        },
        "id": "-So7LSeo0Mxr",
        "outputId": "97510f0b-a28c-465a-81af-b697c26c03a7"
      },
      "source": [
        "# Doubly Linked List of length = 1:\n",
        "print('\\033[1m'+'Original:'+'\\033[0m')\n",
        "dll_b.display_contents()\n",
        "print('\\033[1m'+'Length= '+'\\033[0m'+'{}'.format(dll_b.calculate_length()))\n",
        "print('\\033[1m'+'Modified:'+'\\033[0m')\n",
        "dll_b.add_node_after('NewNA','Monday')  ; dll_b.display_contents()\n",
        "dll_b.add_node_after('NewNA','Tuesday') ; dll_b.display_contents()\n",
        "dll_b.add_node_before('NewNB','Monday') ; dll_b.display_contents()\n",
        "dll_b.add_node_before('NewNB','Tuesday'); dll_b.display_contents()\n",
        "dll_b.add_node_begin('NewNS')           ; dll_b.display_contents()\n",
        "dll_b.del_node_begin()                  ; dll_b.display_contents()\n",
        "dll_b.del_node_end()                    ; dll_b.display_contents()\n",
        "dll_b.del_node_value('Monday')          ; dll_b.display_contents()"
      ],
      "execution_count": 11,
      "outputs": [
        {
          "output_type": "stream",
          "text": [
            "\u001b[1mOriginal:\u001b[0m\n",
            "Monday\n",
            "\u001b[1mLength= \u001b[0m1\n",
            "\u001b[1mModified:\u001b[0m\n",
            "Monday <=> NewNA\n",
            "ERROR: Reached the end of the linked list but could not find Tuesday in it.\n",
            "Monday <=> NewNA\n",
            "NewNB <=> Monday <=> NewNA\n",
            "ERROR: Reached the end of the linked list but could not find Tuesday in it.\n",
            "NewNB <=> Monday <=> NewNA\n",
            "NewNS <=> NewNB <=> Monday <=> NewNA\n",
            "NewNB <=> Monday <=> NewNA\n",
            "NewNB <=> Monday\n",
            "NewNB\n"
          ],
          "name": "stdout"
        }
      ]
    },
    {
      "cell_type": "code",
      "metadata": {
        "colab": {
          "base_uri": "https://localhost:8080/"
        },
        "id": "pKc8oieS0XMs",
        "outputId": "c8cef5fd-a1cf-4845-e594-11481732961c"
      },
      "source": [
        "# Doubly Linked List of length = L:\n",
        "print('\\033[1m'+'Original:'+'\\033[0m')\n",
        "dll_c.display_contents()\n",
        "print('\\033[1m'+'Length= '+'\\033[0m'+'{}'.format(dll_c.calculate_length()))\n",
        "print('\\033[1m'+'Modified:'+'\\033[0m')\n",
        "dll_c.add_node_begin('NewNS')           ; dll_c.display_contents()\n",
        "dll_c.add_node_after('NewNA','Monday')  ; dll_c.display_contents()\n",
        "dll_c.add_node_after('NewNA','Someday') ; dll_c.display_contents()\n",
        "dll_c.add_node_before('NewNB','Monday') ; dll_c.display_contents()\n",
        "dll_c.add_node_before('NewNB','Someday'); dll_c.display_contents()\n",
        "dll_c.del_node_begin()                  ; dll_c.display_contents()\n",
        "dll_c.del_node_end()                    ; dll_c.display_contents()\n",
        "dll_c.del_node_value('Monday')          ; dll_c.display_contents()\n",
        "dll_c.del_node_value('Someday')         ; dll_c.display_contents()"
      ],
      "execution_count": 12,
      "outputs": [
        {
          "output_type": "stream",
          "text": [
            "\u001b[1mOriginal:\u001b[0m\n",
            "Monday <=> Tuesday <=> Wednesday <=> Thursday <=> Friday <=> Saturday <=> Sunday <=> 1 <=> 2 <=> 3\n",
            "\u001b[1mLength= \u001b[0m10\n",
            "\u001b[1mModified:\u001b[0m\n",
            "NewNS <=> Monday <=> Tuesday <=> Wednesday <=> Thursday <=> Friday <=> Saturday <=> Sunday <=> 1 <=> 2 <=> 3\n",
            "NewNS <=> Monday <=> NewNA <=> Tuesday <=> Wednesday <=> Thursday <=> Friday <=> Saturday <=> Sunday <=> 1 <=> 2 <=> 3\n",
            "ERROR: Reached the end of the linked list but could not find Someday in it.\n",
            "NewNS <=> Monday <=> NewNA <=> Tuesday <=> Wednesday <=> Thursday <=> Friday <=> Saturday <=> Sunday <=> 1 <=> 2 <=> 3\n",
            "NewNS <=> NewNB <=> Monday <=> NewNA <=> Tuesday <=> Wednesday <=> Thursday <=> Friday <=> Saturday <=> Sunday <=> 1 <=> 2 <=> 3\n",
            "ERROR: Reached the end of the linked list but could not find Someday in it.\n",
            "NewNS <=> NewNB <=> Monday <=> NewNA <=> Tuesday <=> Wednesday <=> Thursday <=> Friday <=> Saturday <=> Sunday <=> 1 <=> 2 <=> 3\n",
            "NewNB <=> Monday <=> NewNA <=> Tuesday <=> Wednesday <=> Thursday <=> Friday <=> Saturday <=> Sunday <=> 1 <=> 2 <=> 3\n",
            "NewNB <=> Monday <=> NewNA <=> Tuesday <=> Wednesday <=> Thursday <=> Friday <=> Saturday <=> Sunday <=> 1 <=> 2\n",
            "NewNB <=> NewNA <=> Tuesday <=> Wednesday <=> Thursday <=> Friday <=> Saturday <=> Sunday <=> 1 <=> 2\n",
            "ERROR: Reached the end of the linked list but could not find Someday in it.\n",
            "NewNB <=> NewNA <=> Tuesday <=> Wednesday <=> Thursday <=> Friday <=> Saturday <=> Sunday <=> 1 <=> 2\n"
          ],
          "name": "stdout"
        }
      ]
    },
    {
      "cell_type": "code",
      "metadata": {
        "id": "hSGYqJYa0ocV"
      },
      "source": [
        ""
      ],
      "execution_count": null,
      "outputs": []
    },
    {
      "cell_type": "markdown",
      "metadata": {
        "id": "zjfKabpL0yKf"
      },
      "source": [
        "# Textbook problems:-----------------------------------------------------------------------------------------"
      ]
    },
    {
      "cell_type": "markdown",
      "metadata": {
        "id": "ic_IE85aOigp"
      },
      "source": [
        "The textbook problems that follow use the class NodeSll defined above and only three methods of SinglyLinkedList class (initialization, display contents, add_node_end). If one doesn't want to do that, these two classes can be written again in each solution. No problem. "
      ]
    },
    {
      "cell_type": "markdown",
      "metadata": {
        "id": "bmkFPagG05-3"
      },
      "source": [
        "**1.1 Write code to remove duplicates from an unsorted linked list. FOLLOW UP: How would you solve this problem if a temporary buffer is not allowed?**"
      ]
    },
    {
      "cell_type": "code",
      "metadata": {
        "id": "OSknLr3t05Rp"
      },
      "source": [
        "# When a temporary buffer is allowed, an efficient solution can be implemented by using a Hash table. That solution will be presented in the section corresponding to Hash tables.\n",
        "# The solution presented here does not require a temporary buffer BUT has a time complexity of O(N^2) \n",
        "\n",
        "def remove_duplicates_NB(input_sll):\n",
        "\n",
        "  if input_sll.head == None or input_sll.head.next == None:\n",
        "    return (print('ERROR: Need atleast 2 elements in the linked list for duplicates to exist'))\n",
        "\n",
        "  # LOGIC: Create two pointers (current and running). Current pointer is used to pick the nodes one by one, while the running pointer compares the data in the picked node with the rest of the nodes. \n",
        "  current_pointer= input_sll.head\n",
        "  while current_pointer.next != None:\n",
        "    running_pointer= current_pointer\n",
        "    while running_pointer.next != None:\n",
        "      if current_pointer.data == running_pointer.next.data:\n",
        "        running_pointer.next= running_pointer.next.next\n",
        "      else:\n",
        "        running_pointer= running_pointer.next\n",
        "    current_pointer= current_pointer.next"
      ],
      "execution_count": 13,
      "outputs": []
    },
    {
      "cell_type": "markdown",
      "metadata": {
        "id": "WaqyqAcg1Vd6"
      },
      "source": [
        "--------------------------------------------------------------------------<<<<<<< Code Test >>>>>>> -----------------------------------------------------------------------------"
      ]
    },
    {
      "cell_type": "code",
      "metadata": {
        "id": "oztnyhR41WME"
      },
      "source": [
        "# Three types of test cases: Empty sll, sll of length 1, sll of length L\n",
        "sll_a= SinglyLinkedList()\n",
        "sll_b= SinglyLinkedList()\n",
        "sll_c= SinglyLinkedList() \n",
        "sll_d= SinglyLinkedList() \n",
        "sll_e= SinglyLinkedList() \n",
        "data1= ['Monday','Tuesday','Wednesday','Thursday','Friday','Saturday','Sunday',1,2,3]\n",
        "data2= ['Monday','Monday','Monday','Thursday','Monday','Monday','Thursday',1,'Thursday','Monday']\n",
        "data3= ['Monday','Tuesday','Monday','Thursday','Monday','Tuesday','Thursday',1,2,'Monday']\n",
        "for i in range(1):                    \n",
        "  sll_b.add_node_end(data1[i])       \n",
        "for i in range(len(data1)):          \n",
        "  sll_c.add_node_end(data1[i])\n",
        "  sll_d.add_node_end(data2[i])\n",
        "  sll_e.add_node_end(data3[i])"
      ],
      "execution_count": 14,
      "outputs": []
    },
    {
      "cell_type": "code",
      "metadata": {
        "id": "epLXBvZF1WSj",
        "colab": {
          "base_uri": "https://localhost:8080/"
        },
        "outputId": "db673b9f-6f73-47a1-9d8b-987513510a54"
      },
      "source": [
        "sll_a.display_contents()\n",
        "remove_duplicates_NB(sll_a)\n",
        "sll_a.display_contents()"
      ],
      "execution_count": 15,
      "outputs": [
        {
          "output_type": "stream",
          "text": [
            "The linked list is Empty\n",
            "ERROR: Need atleast 2 elements in the linked list for duplicates to exist\n",
            "The linked list is Empty\n"
          ],
          "name": "stdout"
        }
      ]
    },
    {
      "cell_type": "code",
      "metadata": {
        "colab": {
          "base_uri": "https://localhost:8080/"
        },
        "id": "dS6uDr1aHcgy",
        "outputId": "d92606dd-a08a-45a6-b507-7ad1bb247c9f"
      },
      "source": [
        "sll_b.display_contents()\n",
        "remove_duplicates_NB(sll_b)\n",
        "sll_b.display_contents()"
      ],
      "execution_count": 16,
      "outputs": [
        {
          "output_type": "stream",
          "text": [
            "Monday\n",
            "ERROR: Need atleast 2 elements in the linked list for duplicates to exist\n",
            "Monday\n"
          ],
          "name": "stdout"
        }
      ]
    },
    {
      "cell_type": "code",
      "metadata": {
        "colab": {
          "base_uri": "https://localhost:8080/"
        },
        "id": "t3dMuVWzHcnc",
        "outputId": "be09d8f5-41f4-42ad-904a-ad5ec58690db"
      },
      "source": [
        "sll_c.display_contents()\n",
        "remove_duplicates_NB(sll_c)\n",
        "sll_c.display_contents()"
      ],
      "execution_count": 17,
      "outputs": [
        {
          "output_type": "stream",
          "text": [
            "Monday -> Tuesday -> Wednesday -> Thursday -> Friday -> Saturday -> Sunday -> 1 -> 2 -> 3\n",
            "Monday -> Tuesday -> Wednesday -> Thursday -> Friday -> Saturday -> Sunday -> 1 -> 2 -> 3\n"
          ],
          "name": "stdout"
        }
      ]
    },
    {
      "cell_type": "code",
      "metadata": {
        "colab": {
          "base_uri": "https://localhost:8080/"
        },
        "id": "q_UxABO4Hcsr",
        "outputId": "80b36c23-4dbc-4af5-95d7-c49134ce7076"
      },
      "source": [
        "sll_d.display_contents()\n",
        "remove_duplicates_NB(sll_d)\n",
        "sll_d.display_contents()"
      ],
      "execution_count": 18,
      "outputs": [
        {
          "output_type": "stream",
          "text": [
            "Monday -> Monday -> Monday -> Thursday -> Monday -> Monday -> Thursday -> 1 -> Thursday -> Monday\n",
            "Monday -> Thursday -> 1\n"
          ],
          "name": "stdout"
        }
      ]
    },
    {
      "cell_type": "code",
      "metadata": {
        "colab": {
          "base_uri": "https://localhost:8080/"
        },
        "id": "lvaYhfqFHcxj",
        "outputId": "bc3274e2-17c3-464b-aa87-ebf7575d3515"
      },
      "source": [
        "sll_e.display_contents()\n",
        "remove_duplicates_NB(sll_e)\n",
        "sll_e.display_contents()"
      ],
      "execution_count": 19,
      "outputs": [
        {
          "output_type": "stream",
          "text": [
            "Monday -> Tuesday -> Monday -> Thursday -> Monday -> Tuesday -> Thursday -> 1 -> 2 -> Monday\n",
            "Monday -> Tuesday -> Thursday -> 1 -> 2\n"
          ],
          "name": "stdout"
        }
      ]
    },
    {
      "cell_type": "code",
      "metadata": {
        "id": "1aMZ6Rr5Hc3j"
      },
      "source": [
        ""
      ],
      "execution_count": null,
      "outputs": []
    },
    {
      "cell_type": "markdown",
      "metadata": {
        "id": "KBWIMWm509rv"
      },
      "source": [
        "**1.2 Implement an algorithm to find the kth to last element of a singly linked list (assume that you are not given the size of the linked list).**"
      ]
    },
    {
      "cell_type": "code",
      "metadata": {
        "id": "KaN89DMx01d-"
      },
      "source": [
        "def kth_to_last_el_1(input_sll,k):  # k is positive\n",
        "\n",
        "  if input_sll.head == None:\n",
        "    return (print('ERROR: The linked list is Empty'))\n",
        "  \n",
        "  # The kth to last element is the (len+1-k) the element of the linked list\n",
        "  # [St.1] Calculate the length of the linked list\n",
        "  len= input_sll.calculate_length()\n",
        "  if k > len:\n",
        "    return (print('ERROR: k= {} is greater than length= {} of the linked list'.format(k,len)))\n",
        "  # [St.2] Go to the target i.e., (len+1-k)th node. Stating from the head node, it can be reached in (len-k) steps \n",
        "  target_node= input_sll.head\n",
        "  for i in range(len-k):\n",
        "    target_node= target_node.next\n",
        "  \n",
        "  return (target_node.data)\n",
        "\n",
        "def kth_to_last_el_2(input_sll,k):  # k is positive\n",
        "  \n",
        "  if input_sll.head == None:\n",
        "    return (print('ERROR: The linked list is Empty'))\n",
        "  \n",
        "  # [St.1] Create 2 pointers and keep them k nodes apart\n",
        "  left_pointer = input_sll.head\n",
        "  right_pointer= input_sll.head\n",
        "  for i in range(k-1):\n",
        "    right_pointer= right_pointer.next\n",
        "    if right_pointer == None:\n",
        "      return (print('ERROR: k= {} is greater than the length of the linked list'.format(k)))\n",
        "  # [St.2] Move both the pointers one step at a time. When the right pointer reaches the end, the left pointer reaches the target node. \n",
        "  while right_pointer.next != None:\n",
        "    left_pointer = left_pointer.next\n",
        "    right_pointer= right_pointer.next\n",
        "  \n",
        "  return (left_pointer.data)"
      ],
      "execution_count": 20,
      "outputs": []
    },
    {
      "cell_type": "markdown",
      "metadata": {
        "id": "lgL3H0Dw1W8j"
      },
      "source": [
        "--------------------------------------------------------------------------<<<<<<< Code Test >>>>>>> -----------------------------------------------------------------------------"
      ]
    },
    {
      "cell_type": "code",
      "metadata": {
        "id": "cgmcMQ4V1XsF"
      },
      "source": [
        "# Three test cases: sll_a of length 0, sll_b of length 1, sll_c of length L\n",
        "sll_a= SinglyLinkedList()\n",
        "sll_b= SinglyLinkedList()\n",
        "sll_c= SinglyLinkedList() \n",
        "data= ['Monday','Tuesday','Wednesday','Thursday','Friday','Saturday','Sunday',1,2,3]\n",
        "for i in range(1):                    \n",
        "  sll_b.add_node_end(data[i])       \n",
        "for i in range(len(data)):          \n",
        "  sll_c.add_node_end(data[i])"
      ],
      "execution_count": 21,
      "outputs": []
    },
    {
      "cell_type": "code",
      "metadata": {
        "id": "twWxa2TJ1XyV",
        "colab": {
          "base_uri": "https://localhost:8080/"
        },
        "outputId": "348c7cd3-7330-4f9d-ea0f-e7a471964a10"
      },
      "source": [
        "kth_to_last_el_1(sll_a,1)\n",
        "kth_to_last_el_2(sll_a,1)"
      ],
      "execution_count": 22,
      "outputs": [
        {
          "output_type": "stream",
          "text": [
            "ERROR: The linked list is Empty\n",
            "ERROR: The linked list is Empty\n"
          ],
          "name": "stdout"
        }
      ]
    },
    {
      "cell_type": "code",
      "metadata": {
        "colab": {
          "base_uri": "https://localhost:8080/",
          "height": 52
        },
        "id": "ZRNX5ajLIMrp",
        "outputId": "bbed8d6e-616e-48e1-a4db-a23f5537d442"
      },
      "source": [
        "kth_to_last_el_1(sll_b,2)\n",
        "kth_to_last_el_1(sll_b,1)"
      ],
      "execution_count": 23,
      "outputs": [
        {
          "output_type": "stream",
          "text": [
            "ERROR: k= 2 is greater than length= 1 of the linked list\n"
          ],
          "name": "stdout"
        },
        {
          "output_type": "execute_result",
          "data": {
            "application/vnd.google.colaboratory.intrinsic+json": {
              "type": "string"
            },
            "text/plain": [
              "'Monday'"
            ]
          },
          "metadata": {
            "tags": []
          },
          "execution_count": 23
        }
      ]
    },
    {
      "cell_type": "code",
      "metadata": {
        "colab": {
          "base_uri": "https://localhost:8080/",
          "height": 52
        },
        "id": "O5t3c2qWIMvC",
        "outputId": "7116f66d-61c5-457e-f5a4-f33dce3e1203"
      },
      "source": [
        "kth_to_last_el_2(sll_b,2)\n",
        "kth_to_last_el_2(sll_b,1)"
      ],
      "execution_count": 24,
      "outputs": [
        {
          "output_type": "stream",
          "text": [
            "ERROR: k= 2 is greater than the length of the linked list\n"
          ],
          "name": "stdout"
        },
        {
          "output_type": "execute_result",
          "data": {
            "application/vnd.google.colaboratory.intrinsic+json": {
              "type": "string"
            },
            "text/plain": [
              "'Monday'"
            ]
          },
          "metadata": {
            "tags": []
          },
          "execution_count": 24
        }
      ]
    },
    {
      "cell_type": "code",
      "metadata": {
        "colab": {
          "base_uri": "https://localhost:8080/",
          "height": 52
        },
        "id": "PvGNkLDgIMyl",
        "outputId": "01f5d91a-8e38-4377-ca55-56dba33800b1"
      },
      "source": [
        "kth_to_last_el_1(sll_c,11)\n",
        "kth_to_last_el_1(sll_c,4)"
      ],
      "execution_count": 25,
      "outputs": [
        {
          "output_type": "stream",
          "text": [
            "ERROR: k= 11 is greater than length= 10 of the linked list\n"
          ],
          "name": "stdout"
        },
        {
          "output_type": "execute_result",
          "data": {
            "application/vnd.google.colaboratory.intrinsic+json": {
              "type": "string"
            },
            "text/plain": [
              "'Sunday'"
            ]
          },
          "metadata": {
            "tags": []
          },
          "execution_count": 25
        }
      ]
    },
    {
      "cell_type": "code",
      "metadata": {
        "colab": {
          "base_uri": "https://localhost:8080/",
          "height": 52
        },
        "id": "qsXWGVrAIdCR",
        "outputId": "2ddf79ac-86cf-4f7f-b3e6-94f985b12a25"
      },
      "source": [
        "kth_to_last_el_2(sll_c,11)\n",
        "kth_to_last_el_2(sll_c,4)"
      ],
      "execution_count": 26,
      "outputs": [
        {
          "output_type": "stream",
          "text": [
            "ERROR: k= 11 is greater than the length of the linked list\n"
          ],
          "name": "stdout"
        },
        {
          "output_type": "execute_result",
          "data": {
            "application/vnd.google.colaboratory.intrinsic+json": {
              "type": "string"
            },
            "text/plain": [
              "'Sunday'"
            ]
          },
          "metadata": {
            "tags": []
          },
          "execution_count": 26
        }
      ]
    },
    {
      "cell_type": "code",
      "metadata": {
        "id": "3Tmrw1MFIdMJ"
      },
      "source": [
        ""
      ],
      "execution_count": null,
      "outputs": []
    },
    {
      "cell_type": "markdown",
      "metadata": {
        "id": "KK8-5AI71BeJ"
      },
      "source": [
        "**1.3 Implement an algorithm to delete a node in the middle of a singly linked list, given only access to that node (e.g., INPUT: the node c from the linked list a->b->c->d->e OUTPUT: nothing is returned, but the new linked list looks like a->b->d->e)**"
      ]
    },
    {
      "cell_type": "code",
      "metadata": {
        "id": "6cmQf_891E9c"
      },
      "source": [
        "# NOTE: We are NOT given access to the head of the linked list, so the del_node_value() method defined above wont work.\n",
        "def delete_node(node):\n",
        "  node.data= node.next.data\n",
        "  node.next= node.next.next"
      ],
      "execution_count": 27,
      "outputs": []
    },
    {
      "cell_type": "markdown",
      "metadata": {
        "id": "jPZDGghR1Yvu"
      },
      "source": [
        "--------------------------------------------------------------------------<<<<<<< Code Test >>>>>>> -----------------------------------------------------------------------------"
      ]
    },
    {
      "cell_type": "code",
      "metadata": {
        "id": "yv4LhF4cP4x3"
      },
      "source": [
        "sll_a= SinglyLinkedList()\n",
        "data= ['Monday','Tuesday','Wednesday','Thursday','Friday','Saturday','Sunday',1,2,3]\n",
        "for i in range(len(data)):                    \n",
        "  sll_a.add_node_end(data[i])       "
      ],
      "execution_count": 28,
      "outputs": []
    },
    {
      "cell_type": "code",
      "metadata": {
        "id": "3aeUwm1H1Zj8",
        "colab": {
          "base_uri": "https://localhost:8080/"
        },
        "outputId": "a57b009a-5992-4fa1-9fb5-47fd51c0b760"
      },
      "source": [
        "sll_a.display_contents()\n",
        "delete_node(sll_a.head.next.next.next) \n",
        "sll_a.display_contents()"
      ],
      "execution_count": 29,
      "outputs": [
        {
          "output_type": "stream",
          "text": [
            "Monday -> Tuesday -> Wednesday -> Thursday -> Friday -> Saturday -> Sunday -> 1 -> 2 -> 3\n",
            "Monday -> Tuesday -> Wednesday -> Friday -> Saturday -> Sunday -> 1 -> 2 -> 3\n"
          ],
          "name": "stdout"
        }
      ]
    },
    {
      "cell_type": "code",
      "metadata": {
        "id": "omB0VyWsQHmN"
      },
      "source": [
        ""
      ],
      "execution_count": null,
      "outputs": []
    },
    {
      "cell_type": "markdown",
      "metadata": {
        "id": "6dURErzq1FUJ"
      },
      "source": [
        "**1.4 Write code to partition a linked list around a value x, such that all nodes less than x come before all nodes greater than or equal to x.**"
      ]
    },
    {
      "cell_type": "code",
      "metadata": {
        "id": "YntbojaT1IAi"
      },
      "source": [
        "def partition_around_x(input_sll,x):\n",
        "  \n",
        "  # [St.1] Create 2 linked lists (left and right). The SinglyLinkedList class is defined above. \n",
        "  left = SinglyLinkedList()\n",
        "  right= SinglyLinkedList()\n",
        "  # [St.2] Iterate through the input sll, check the data in each node, and add nodes to the appropriate list (left or right).\n",
        "  current_node= input_sll.head\n",
        "  while current_node != None:\n",
        "    if current_node.data < x:       # If the data is less than (x), add the current node to the end of the left list\n",
        "      left_tail= add_node_end_p4(left,current_node.data)\n",
        "    else:                           # If the data is greater than or equal to (x), add the current node to the end of the right list\n",
        "      right_tail= add_node_end_p4(right,current_node.data)\n",
        "    current_node= current_node.next\n",
        "  # [St.3] Merge the left and the right list together\n",
        "  if left.head != None:\n",
        "    input_sll.head= left.head\n",
        "    left_tail.next= right.head\n",
        "  else:\n",
        "    input_sll.head= right.head\n",
        "\n",
        "def add_node_end_p4(input_sll,data):# METHOD: Add a new node at the end of the singly linked list and return the linked list tail\n",
        "    new_node= NodeSll(data)         # The NodeSll class is defined above\n",
        "    if input_sll.head == None:\n",
        "      input_sll.head= new_node\n",
        "      return (new_node)\n",
        "    last_node= input_sll.head\n",
        "    while last_node.next != None:\n",
        "      last_node= last_node.next\n",
        "    last_node.next= new_node\n",
        "    return (new_node)"
      ],
      "execution_count": 30,
      "outputs": []
    },
    {
      "cell_type": "markdown",
      "metadata": {
        "id": "ME_EPHWr1aOL"
      },
      "source": [
        "--------------------------------------------------------------------------<<<<<<< Code Test >>>>>>> -----------------------------------------------------------------------------"
      ]
    },
    {
      "cell_type": "code",
      "metadata": {
        "id": "zspdtf701ayt"
      },
      "source": [
        "# Five types of test cases: sll_a of length 0, sll_b of length 1, linked list with elements on both sides of x, linked list with all elements less than x, linked list with all elements greater than or equal to x\n",
        "sll_a= SinglyLinkedList()\n",
        "sll_b= SinglyLinkedList() \n",
        "sll_c= SinglyLinkedList()\n",
        "sll_d= SinglyLinkedList()\n",
        "sll_e= SinglyLinkedList()  \n",
        "data1= [1,5,4,3,2,1,6]\n",
        "data2= [1,2,1,2,1,2,1]              # The right list will be empty as all the nodes are less than x=3\n",
        "data3= [4,5,6,7,8,9,3]              # The left list will be empty as all the nodes are greater than or equal to x=3\n",
        "for i in range(1):\n",
        "  sll_b.add_node_end(data1[i])\n",
        "for i in range(len(data1)):                    \n",
        "  sll_c.add_node_end(data1[i])\n",
        "  sll_d.add_node_end(data2[i])\n",
        "  sll_e.add_node_end(data3[i])"
      ],
      "execution_count": 31,
      "outputs": []
    },
    {
      "cell_type": "code",
      "metadata": {
        "colab": {
          "base_uri": "https://localhost:8080/"
        },
        "id": "P6hoAf7a1a4_",
        "outputId": "a17aa44e-7b3e-40f5-d402-1c19f778ff61"
      },
      "source": [
        "sll_a.display_contents()\n",
        "partition_around_x(sll_a,3)\n",
        "sll_a.display_contents()"
      ],
      "execution_count": 32,
      "outputs": [
        {
          "output_type": "stream",
          "text": [
            "The linked list is Empty\n",
            "The linked list is Empty\n"
          ],
          "name": "stdout"
        }
      ]
    },
    {
      "cell_type": "code",
      "metadata": {
        "id": "ljO2Uqga43Am",
        "colab": {
          "base_uri": "https://localhost:8080/"
        },
        "outputId": "3a83a1e1-c44a-41a2-a975-8c77a0970904"
      },
      "source": [
        "sll_b.display_contents()\n",
        "partition_around_x(sll_b,3)\n",
        "sll_b.display_contents()"
      ],
      "execution_count": 33,
      "outputs": [
        {
          "output_type": "stream",
          "text": [
            "1\n",
            "1\n"
          ],
          "name": "stdout"
        }
      ]
    },
    {
      "cell_type": "code",
      "metadata": {
        "colab": {
          "base_uri": "https://localhost:8080/"
        },
        "id": "sa7ir6PVhPAz",
        "outputId": "d1d21d11-6bd5-4338-df73-a1710953131d"
      },
      "source": [
        "sll_c.display_contents()\n",
        "partition_around_x(sll_c,3)\n",
        "sll_c.display_contents()"
      ],
      "execution_count": 34,
      "outputs": [
        {
          "output_type": "stream",
          "text": [
            "1 -> 5 -> 4 -> 3 -> 2 -> 1 -> 6\n",
            "1 -> 2 -> 1 -> 5 -> 4 -> 3 -> 6\n"
          ],
          "name": "stdout"
        }
      ]
    },
    {
      "cell_type": "code",
      "metadata": {
        "colab": {
          "base_uri": "https://localhost:8080/"
        },
        "id": "dYczbKgBy5mq",
        "outputId": "3c97cb98-df46-4e0a-8a92-21a24966f287"
      },
      "source": [
        "sll_d.display_contents()\n",
        "partition_around_x(sll_d,3)\n",
        "sll_d.display_contents()"
      ],
      "execution_count": 35,
      "outputs": [
        {
          "output_type": "stream",
          "text": [
            "1 -> 2 -> 1 -> 2 -> 1 -> 2 -> 1\n",
            "1 -> 2 -> 1 -> 2 -> 1 -> 2 -> 1\n"
          ],
          "name": "stdout"
        }
      ]
    },
    {
      "cell_type": "code",
      "metadata": {
        "colab": {
          "base_uri": "https://localhost:8080/"
        },
        "id": "KbzR81nG0AXJ",
        "outputId": "dd5a61b0-8b00-457f-c70c-dbaa3d8b1921"
      },
      "source": [
        "sll_e.display_contents()\n",
        "partition_around_x(sll_e,3)\n",
        "sll_e.display_contents()"
      ],
      "execution_count": 36,
      "outputs": [
        {
          "output_type": "stream",
          "text": [
            "4 -> 5 -> 6 -> 7 -> 8 -> 9 -> 3\n",
            "4 -> 5 -> 6 -> 7 -> 8 -> 9 -> 3\n"
          ],
          "name": "stdout"
        }
      ]
    },
    {
      "cell_type": "code",
      "metadata": {
        "id": "2xqT08gdhPL7"
      },
      "source": [
        ""
      ],
      "execution_count": null,
      "outputs": []
    },
    {
      "cell_type": "markdown",
      "metadata": {
        "id": "f-qeWxTw1IIQ"
      },
      "source": [
        "**1.5 You have two numbers represented by a linked list, where each node contains a single digit. The digits are stored in reverse order, such that the 1's digit is at the head of the list. Write a function that adds the two numbers and returns the sum as a linked list.**"
      ]
    },
    {
      "cell_type": "code",
      "metadata": {
        "id": "C7kBcyWE1KTL"
      },
      "source": [
        "def add_two_numbers_rev(input_sll_1,input_sll_2):\n",
        "\n",
        "  result= SinglyLinkedList()\n",
        "  \n",
        "  # [St.1] Iterate through the two input linked lists. Stop when the longer of the two reaches the end. \n",
        "  current_node_1= input_sll_1.head\n",
        "  current_node_2= input_sll_2.head\n",
        "  carry= 0\n",
        "  while current_node_1 != None or current_node_2 != None:\n",
        "  # If one of the lists has reached the end before the other, then take 0 as its digit. NOT a problem if the numbers are stored in the reverse order.   \n",
        "    if current_node_1 == None:\n",
        "      current_node_1_data= 0\n",
        "    else:\n",
        "      current_node_1_data= current_node_1.data \n",
        "    if current_node_2 == None:\n",
        "      current_node_2_data= 0\n",
        "    else:\n",
        "      current_node_2_data= current_node_2.data\n",
        "  # [St.2] Add the two nodes together  \n",
        "    sum= current_node_1_data + current_node_2_data + carry\n",
        "    if sum < 10:\n",
        "      sum= sum; carry= 0\n",
        "    else:\n",
        "      sum= sum-10; carry= 1\n",
        "  # [St.3] Add a new node with data= sum to the empty linked list result defined above\n",
        "    add_node_end_p5(result,sum) \n",
        "\n",
        "    if current_node_1 != None:\n",
        "      current_node_1= current_node_1.next\n",
        "    if current_node_2 != None:\n",
        "      current_node_2= current_node_2.next\n",
        "  \n",
        "  if carry == 1:\n",
        "    add_node_end_p5(result,carry)\n",
        "\n",
        "  return (display_contents_p5(result.head))\n",
        "\n",
        "def add_node_end_p5(input_sll,data):# METHOD: Add a new node at the end of the singly linked list\n",
        "    new_node= NodeSll(data)         # The NodeSll class is defined above\n",
        "    if input_sll.head == None:\n",
        "      input_sll.head= new_node\n",
        "      return (input_sll.head)\n",
        "    last_node= input_sll.head\n",
        "    while last_node.next != None:\n",
        "      last_node= last_node.next\n",
        "    last_node.next= new_node\n",
        "    return\n",
        "\n",
        "def display_contents_p5(head):      # METHOD: Display the contents of the singly linked list given its head\n",
        "  if head == None:\n",
        "    return (print('The linked list is Empty'))\n",
        "  l= []\n",
        "  current_node= head\n",
        "  while current_node != None:\n",
        "   l.append(str(current_node.data))\n",
        "   current_node= current_node.next\n",
        "  return (print(' -> '.join(l)))"
      ],
      "execution_count": 37,
      "outputs": []
    },
    {
      "cell_type": "markdown",
      "metadata": {
        "id": "z_ifytxh1bnX"
      },
      "source": [
        "--------------------------------------------------------------------------<<<<<<< Code Test >>>>>>> -----------------------------------------------------------------------------"
      ]
    },
    {
      "cell_type": "code",
      "metadata": {
        "id": "rpki3ZBh1cEd"
      },
      "source": [
        "# Four types of test cases: two linked lists of length 0, two linked lists of length 1, two linked lists of same length, two linked lists of unequal length \n",
        "sll_a1= SinglyLinkedList(); sll_a2= SinglyLinkedList() \n",
        "sll_b1= SinglyLinkedList(); sll_b2= SinglyLinkedList()\n",
        "sll_c1= SinglyLinkedList(); sll_c2= SinglyLinkedList()\n",
        "sll_d1= SinglyLinkedList(); sll_d2= SinglyLinkedList()\n",
        "data1= [7,1,6]; data2= [5,9,4]\n",
        "data3= [7,1,6,8]; data4= [5,9,2]\n",
        "data5= [7,1,6]; data6= [5,9,2,8]\n",
        "for i in range(1):                    \n",
        "  sll_a2.add_node_end(data1[i])\n",
        "for i in range(len(data1)):                    \n",
        "  sll_b1.add_node_end(data1[i])\n",
        "  sll_b2.add_node_end(data2[i])\n",
        "for i in range(len(data3)):                    \n",
        "  sll_c1.add_node_end(data3[i])\n",
        "for i in range(len(data4)):                    \n",
        "  sll_c2.add_node_end(data4[i])\n",
        "for i in range(len(data5)):                    \n",
        "  sll_d1.add_node_end(data5[i])\n",
        "for i in range(len(data6)):                    \n",
        "  sll_d2.add_node_end(data6[i])"
      ],
      "execution_count": 38,
      "outputs": []
    },
    {
      "cell_type": "code",
      "metadata": {
        "colab": {
          "base_uri": "https://localhost:8080/"
        },
        "id": "Oi9hE6ECN9Ja",
        "outputId": "9adf3f61-b649-497a-ad6d-e4ef8b7e75e0"
      },
      "source": [
        "sll_a1.display_contents()\n",
        "add_two_numbers_rev(sll_a1,sll_a1)"
      ],
      "execution_count": 39,
      "outputs": [
        {
          "output_type": "stream",
          "text": [
            "The linked list is Empty\n",
            "The linked list is Empty\n"
          ],
          "name": "stdout"
        }
      ]
    },
    {
      "cell_type": "code",
      "metadata": {
        "colab": {
          "base_uri": "https://localhost:8080/"
        },
        "id": "CYZXxHi-SpwF",
        "outputId": "8d0f8216-42b2-4eca-e7b3-21c82a39d8b4"
      },
      "source": [
        "sll_a2.display_contents()\n",
        "add_two_numbers_rev(sll_a2,sll_a2)"
      ],
      "execution_count": 40,
      "outputs": [
        {
          "output_type": "stream",
          "text": [
            "7\n",
            "4 -> 1\n"
          ],
          "name": "stdout"
        }
      ]
    },
    {
      "cell_type": "code",
      "metadata": {
        "id": "Lqx0GZDB1cKY",
        "colab": {
          "base_uri": "https://localhost:8080/"
        },
        "outputId": "09780b89-aada-4ad0-e0ac-477ae54a935d"
      },
      "source": [
        "sll_b1.display_contents()\n",
        "sll_b2.display_contents()\n",
        "add_two_numbers_rev(sll_b1,sll_b2)"
      ],
      "execution_count": 41,
      "outputs": [
        {
          "output_type": "stream",
          "text": [
            "7 -> 1 -> 6\n",
            "5 -> 9 -> 4\n",
            "2 -> 1 -> 1 -> 1\n"
          ],
          "name": "stdout"
        }
      ]
    },
    {
      "cell_type": "code",
      "metadata": {
        "colab": {
          "base_uri": "https://localhost:8080/"
        },
        "id": "m8ebC31XEzQ7",
        "outputId": "8bc572c2-067e-4819-a97e-811b3637294e"
      },
      "source": [
        "sll_c1.display_contents()\n",
        "sll_c2.display_contents()\n",
        "add_two_numbers_rev(sll_c1,sll_c2)"
      ],
      "execution_count": 42,
      "outputs": [
        {
          "output_type": "stream",
          "text": [
            "7 -> 1 -> 6 -> 8\n",
            "5 -> 9 -> 2\n",
            "2 -> 1 -> 9 -> 8\n"
          ],
          "name": "stdout"
        }
      ]
    },
    {
      "cell_type": "code",
      "metadata": {
        "colab": {
          "base_uri": "https://localhost:8080/"
        },
        "id": "QclzpQ1SNL7k",
        "outputId": "62f0de55-c4b9-4ffb-998e-0d2cafff0aac"
      },
      "source": [
        "sll_d1.display_contents()\n",
        "sll_d2.display_contents()\n",
        "add_two_numbers_rev(sll_d1,sll_d2)"
      ],
      "execution_count": 43,
      "outputs": [
        {
          "output_type": "stream",
          "text": [
            "7 -> 1 -> 6\n",
            "5 -> 9 -> 2 -> 8\n",
            "2 -> 1 -> 9 -> 8\n"
          ],
          "name": "stdout"
        }
      ]
    },
    {
      "cell_type": "code",
      "metadata": {
        "id": "qSWrmBYMNmPf"
      },
      "source": [
        ""
      ],
      "execution_count": null,
      "outputs": []
    },
    {
      "cell_type": "markdown",
      "metadata": {
        "id": "R9bBVprt1Ka7"
      },
      "source": [
        "**1.6 Given a circular linked list, implement an algorithm which returns the node at the beginning of the loop.**"
      ]
    },
    {
      "cell_type": "code",
      "metadata": {
        "id": "_NRo84Cy1Np_"
      },
      "source": [
        "def detect_loop_head(input_sll_head):\n",
        "\n",
        "  if input_sll_head == None or input_sll_head.next == None:\n",
        "    return (print('ERROR: Need atleast 2 nodes in the linked list for a loop to exist'))\n",
        "\n",
        "  # [St.1] Create two pointers (slow and fast). Move the slow pointer one step at a time and the fast pointer two steps at a time.\n",
        "  slow_pointer= input_sll_head\n",
        "  fast_pointer= input_sll_head\n",
        "  while fast_pointer != None and fast_pointer.next != None:\n",
        "    slow_pointer= slow_pointer.next\n",
        "    fast_pointer= fast_pointer.next.next\n",
        "  # [St.2] When the two pointers collide, a loop has been detected\n",
        "    if slow_pointer == fast_pointer:\n",
        "      break\n",
        "  # If there is NO loop, the two pointers can never collide\n",
        "  if slow_pointer != fast_pointer:\n",
        "    return (print('A loop does NOT exist in the given linked list'))\n",
        "  # [St.3] A loop is detected when a collision occurs. The collison point and the input_sll head are equidistant from the loop head.\n",
        "  # To detect the loop head: Move the slow pointer to the input_sll head and keep the fast pointer at the collision point > Move each pointer one step at a time > They will collide at the loop head. Done. \n",
        "  slow_pointer= input_sll_head\n",
        "  while slow_pointer != fast_pointer:\n",
        "    slow_pointer= slow_pointer.next\n",
        "    fast_pointer= fast_pointer.next\n",
        "  \n",
        "  return (slow_pointer.data)"
      ],
      "execution_count": 44,
      "outputs": []
    },
    {
      "cell_type": "markdown",
      "metadata": {
        "id": "K49AEb3a1c2s"
      },
      "source": [
        "--------------------------------------------------------------------------<<<<<<< Code Test >>>>>>> -----------------------------------------------------------------------------"
      ]
    },
    {
      "cell_type": "code",
      "metadata": {
        "colab": {
          "base_uri": "https://localhost:8080/"
        },
        "id": "wogP9YXK18y7",
        "outputId": "1fc5e03c-1138-4a21-f448-ba7339a9d968"
      },
      "source": [
        "# Empty SLL\n",
        "sll_a= SinglyLinkedList()\n",
        "detect_loop_head(sll_a.head)"
      ],
      "execution_count": 45,
      "outputs": [
        {
          "output_type": "stream",
          "text": [
            "ERROR: Need atleast 2 nodes in the linked list for a loop to exist\n"
          ],
          "name": "stdout"
        }
      ]
    },
    {
      "cell_type": "code",
      "metadata": {
        "colab": {
          "base_uri": "https://localhost:8080/"
        },
        "id": "KwRl5jmS19Fg",
        "outputId": "ca0c322a-1fa9-4b2e-8ddf-a3848a3aaa7e"
      },
      "source": [
        "# SLL with 1 node\n",
        "sll_b= SinglyLinkedList()\n",
        "sll_b.add_node_end('A')\n",
        "detect_loop_head(sll_a.head)"
      ],
      "execution_count": 46,
      "outputs": [
        {
          "output_type": "stream",
          "text": [
            "ERROR: Need atleast 2 nodes in the linked list for a loop to exist\n"
          ],
          "name": "stdout"
        }
      ]
    },
    {
      "cell_type": "code",
      "metadata": {
        "colab": {
          "base_uri": "https://localhost:8080/",
          "height": 35
        },
        "id": "8oZqLGHTAJqY",
        "outputId": "67369b01-8a74-4123-9104-cf242034935f"
      },
      "source": [
        "# SLL with 2 nodes\n",
        "n1= NodeSll('A')\n",
        "n1.next= n1  \n",
        "detect_loop_head(n1)"
      ],
      "execution_count": 47,
      "outputs": [
        {
          "output_type": "execute_result",
          "data": {
            "application/vnd.google.colaboratory.intrinsic+json": {
              "type": "string"
            },
            "text/plain": [
              "'A'"
            ]
          },
          "metadata": {
            "tags": []
          },
          "execution_count": 47
        }
      ]
    },
    {
      "cell_type": "code",
      "metadata": {
        "colab": {
          "base_uri": "https://localhost:8080/",
          "height": 35
        },
        "id": "24e31GuKnmBL",
        "outputId": "97b49d1a-8c2c-4543-97e3-d4b9705c56a2"
      },
      "source": [
        "# SLL: A -> B -> C -> D -> E -> C\n",
        "n1= NodeSll('A'); n2= NodeSll('B'); n3= NodeSll('C'); n4= NodeSll('D'); n5= NodeSll('E')\n",
        "n1.next= n2     ; n2.next= n3     ; n3.next= n4     ; n4.next= n5     ; n5.next= n3\n",
        "detect_loop_head(n1)              "
      ],
      "execution_count": 48,
      "outputs": [
        {
          "output_type": "execute_result",
          "data": {
            "application/vnd.google.colaboratory.intrinsic+json": {
              "type": "string"
            },
            "text/plain": [
              "'C'"
            ]
          },
          "metadata": {
            "tags": []
          },
          "execution_count": 48
        }
      ]
    },
    {
      "cell_type": "code",
      "metadata": {
        "colab": {
          "base_uri": "https://localhost:8080/",
          "height": 35
        },
        "id": "4G4yzLLN5aB7",
        "outputId": "5c8a06b3-fda2-4c15-9e5f-840d344698ef"
      },
      "source": [
        "# SLL: A -> B -> C -> D -> E -> D\n",
        "n1= NodeSll('A'); n2= NodeSll('B'); n3= NodeSll('C'); n4= NodeSll('D'); n5= NodeSll('E')\n",
        "n1.next= n2     ; n2.next= n3     ; n3.next= n4     ; n4.next= n5     ; n5.next= n4\n",
        "detect_loop_head(n1)"
      ],
      "execution_count": 49,
      "outputs": [
        {
          "output_type": "execute_result",
          "data": {
            "application/vnd.google.colaboratory.intrinsic+json": {
              "type": "string"
            },
            "text/plain": [
              "'D'"
            ]
          },
          "metadata": {
            "tags": []
          },
          "execution_count": 49
        }
      ]
    },
    {
      "cell_type": "code",
      "metadata": {
        "colab": {
          "base_uri": "https://localhost:8080/"
        },
        "id": "1lNQ9hbm1386",
        "outputId": "0ee6e230-eff8-4a3c-eb62-cf79a4f20906"
      },
      "source": [
        "# SLL: A -> B -> C -> D -> E \n",
        "n1= NodeSll('A'); n2= NodeSll('B'); n3= NodeSll('C'); n4= NodeSll('D'); n5= NodeSll('E')\n",
        "n1.next= n2     ; n2.next= n3     ; n3.next= n4     ; n4.next= n5     \n",
        "detect_loop_head(n1)"
      ],
      "execution_count": 50,
      "outputs": [
        {
          "output_type": "stream",
          "text": [
            "A loop does NOT exist in the given linked list\n"
          ],
          "name": "stdout"
        }
      ]
    },
    {
      "cell_type": "code",
      "metadata": {
        "id": "azHqd23614BQ"
      },
      "source": [
        ""
      ],
      "execution_count": 50,
      "outputs": []
    },
    {
      "cell_type": "markdown",
      "metadata": {
        "id": "VVsm_7Pt1NxK"
      },
      "source": [
        "**1.7 Implement a function to check if a linked list is a palindrome.**"
      ]
    },
    {
      "cell_type": "code",
      "metadata": {
        "id": "0UwbGqxw1RGq"
      },
      "source": [
        "# LOGIC: Divide the linked list into two halves > Reverse the 2nd half > Compare the two halves\n",
        "\n",
        "def is_palindrome(input_sll):\n",
        "\n",
        "  if input_sll.head == None or input_sll.head.next == None:\n",
        "    return (print('ERROR: Need atleast 2 elements in the linked list for Palindrome check'))\n",
        "    \n",
        "  # [St.1] Identify the starting node of the second half\n",
        "  # Linked list with: odd no. elements (0.5(n+1)+1)th element, even no. of elements (0.5(n)+1)th element \n",
        "  slow_pointer= input_sll.head\n",
        "  fast_pointer= input_sll.head\n",
        "  prev_slow_pointer= input_sll.head\n",
        "  midnode= None\n",
        "  while fast_pointer != None and fast_pointer.next != None:\n",
        "    prev_slow_pointer= slow_pointer\n",
        "    slow_pointer= slow_pointer.next\n",
        "    fast_pointer= fast_pointer.next.next\n",
        "  if fast_pointer != None:          # This is True when the linked list has odd no. of elements\n",
        "    midnode= slow_pointer\n",
        "    slow_pointer= slow_pointer.next\n",
        "  SH_head= slow_pointer\n",
        "  # [St.2] Terminate the 1st half and reverse the 2nd half\n",
        "  prev_slow_pointer.next= None      # This terminates the 1st half\n",
        "  # Now, its time to reverse the 2nd half. If we use the existing reverse_inplace method, it will do the job, but we also want the function to return the head of the reversed 2nd half.\n",
        "  SH_rev_head= reverse_linkedlist(SH_head)\n",
        "  # [St.3] Compare the two halves\n",
        "  result= compare_linkedlists(input_sll.head,SH_rev_head)\n",
        "  # [St.4] Reconstruct the linkedlist\n",
        "  SH_head_rec= reverse_linkedlist(SH_rev_head)\n",
        "  if midnode != None:\n",
        "    prev_slow_pointer.next= midnode\n",
        "    midnode.next= SH_head_rec\n",
        "  else:\n",
        "    prev_slow_pointer.next= SH_head_rec\n",
        "\n",
        "  return (result)\n",
        "  \n",
        "def reverse_linkedlist(head):       # METHOD: Reverse the singly linked list given the head and returns the new head\n",
        "  prev= None\n",
        "  current_node= head\n",
        "  while current_node != None:\n",
        "    temp= current_node.next\n",
        "    current_node.next= prev\n",
        "    prev= current_node\n",
        "    current_node= temp\n",
        "  head= prev\n",
        "  return (head)\n",
        "\n",
        "def compare_linkedlists(head1,head2):# METHOD: Compare two linked lists\n",
        "  current_node_FH= head1\n",
        "  current_node_SH= head2\n",
        "  while current_node_FH != None:\n",
        "    if current_node_FH.data != current_node_SH.data:\n",
        "      return (False)\n",
        "    current_node_FH= current_node_FH.next\n",
        "    current_node_SH= current_node_SH.next\n",
        "  return (True)"
      ],
      "execution_count": 51,
      "outputs": []
    },
    {
      "cell_type": "markdown",
      "metadata": {
        "id": "hGMbsK6k1eVM"
      },
      "source": [
        "--------------------------------------------------------------------------<<<<<<< Code Test >>>>>>> -----------------------------------------------------------------------------"
      ]
    },
    {
      "cell_type": "code",
      "metadata": {
        "id": "nGrkWXp11e-A"
      },
      "source": [
        "# Five types of test cases: Empty sll, sll of length 1, sll of length 2, (non)palindrome of odd length, (non)palindrome of even length\n",
        "sll_a= SinglyLinkedList()\n",
        "sll_b= SinglyLinkedList()\n",
        "sll_c= SinglyLinkedList(); sll_d= SinglyLinkedList()\n",
        "sll_e= SinglyLinkedList(); sll_f= SinglyLinkedList()\n",
        "sll_g= SinglyLinkedList(); sll_h= SinglyLinkedList()\n",
        "data1= ['a','a']                ; data2= ['a','b']\n",
        "data3= ['a','b','c','b','a']    ; data4= ['a','b','c','c','a']\n",
        "data5= ['a','b','c','c','b','a']; data6= ['a','b','c','d','b','a']\n",
        "      \n",
        "for i in range(1):                    \n",
        "  sll_b.add_node_end(data1[i]) \n",
        "for i in range(len(data1)):\n",
        "  sll_c.add_node_end(data1[i])          \n",
        "  sll_d.add_node_end(data2[i])\n",
        "for i in range(len(data3)):          \n",
        "  sll_e.add_node_end(data3[i])\n",
        "  sll_f.add_node_end(data4[i])\n",
        "for i in range(len(data5)):  \n",
        "  sll_g.add_node_end(data5[i])\n",
        "  sll_h.add_node_end(data6[i])"
      ],
      "execution_count": 52,
      "outputs": []
    },
    {
      "cell_type": "code",
      "metadata": {
        "id": "BiXRlGjQ1fFT",
        "colab": {
          "base_uri": "https://localhost:8080/"
        },
        "outputId": "907354f3-557c-4d86-ede8-534a1586f733"
      },
      "source": [
        "is_palindrome(sll_a)\n",
        "sll_a.display_contents()"
      ],
      "execution_count": 53,
      "outputs": [
        {
          "output_type": "stream",
          "text": [
            "ERROR: Need atleast 2 elements in the linked list for Palindrome check\n",
            "The linked list is Empty\n"
          ],
          "name": "stdout"
        }
      ]
    },
    {
      "cell_type": "code",
      "metadata": {
        "colab": {
          "base_uri": "https://localhost:8080/"
        },
        "id": "fa1PYgoXRXXp",
        "outputId": "6b6d09bd-2264-4cba-c13c-ee721da0b961"
      },
      "source": [
        "is_palindrome(sll_b)\n",
        "sll_b.display_contents()"
      ],
      "execution_count": 54,
      "outputs": [
        {
          "output_type": "stream",
          "text": [
            "ERROR: Need atleast 2 elements in the linked list for Palindrome check\n",
            "a\n"
          ],
          "name": "stdout"
        }
      ]
    },
    {
      "cell_type": "code",
      "metadata": {
        "colab": {
          "base_uri": "https://localhost:8080/"
        },
        "id": "rhaR6YQrRZQw",
        "outputId": "b5db3313-abb2-4771-d8a8-c8b9a050efa8"
      },
      "source": [
        "print(is_palindrome(sll_c))\n",
        "sll_c.display_contents()"
      ],
      "execution_count": 55,
      "outputs": [
        {
          "output_type": "stream",
          "text": [
            "True\n",
            "a -> a\n"
          ],
          "name": "stdout"
        }
      ]
    },
    {
      "cell_type": "code",
      "metadata": {
        "colab": {
          "base_uri": "https://localhost:8080/"
        },
        "id": "b6N_sgreRbbZ",
        "outputId": "87c709c7-d9b2-49f1-c622-b41d75ff1723"
      },
      "source": [
        "print(is_palindrome(sll_d))\n",
        "sll_d.display_contents()"
      ],
      "execution_count": 56,
      "outputs": [
        {
          "output_type": "stream",
          "text": [
            "False\n",
            "a -> b\n"
          ],
          "name": "stdout"
        }
      ]
    },
    {
      "cell_type": "code",
      "metadata": {
        "colab": {
          "base_uri": "https://localhost:8080/"
        },
        "id": "-9hHiaRjRdR1",
        "outputId": "50d03ac0-256a-491c-ca2c-6c71b844991e"
      },
      "source": [
        "print(is_palindrome(sll_e))\n",
        "sll_e.display_contents()"
      ],
      "execution_count": 57,
      "outputs": [
        {
          "output_type": "stream",
          "text": [
            "True\n",
            "a -> b -> c -> b -> a\n"
          ],
          "name": "stdout"
        }
      ]
    },
    {
      "cell_type": "code",
      "metadata": {
        "colab": {
          "base_uri": "https://localhost:8080/"
        },
        "id": "n0f-7-5DRgJ1",
        "outputId": "6c6e8631-dec9-47fe-8950-96a25ee61b0e"
      },
      "source": [
        "print(is_palindrome(sll_f))\n",
        "sll_f.display_contents()"
      ],
      "execution_count": 58,
      "outputs": [
        {
          "output_type": "stream",
          "text": [
            "False\n",
            "a -> b -> c -> c -> a\n"
          ],
          "name": "stdout"
        }
      ]
    },
    {
      "cell_type": "code",
      "metadata": {
        "colab": {
          "base_uri": "https://localhost:8080/"
        },
        "id": "Vv9vmq5TRh_7",
        "outputId": "e7d2385d-ecd6-4235-eb6f-abba769935d8"
      },
      "source": [
        "print(is_palindrome(sll_g))\n",
        "sll_g.display_contents()"
      ],
      "execution_count": 59,
      "outputs": [
        {
          "output_type": "stream",
          "text": [
            "True\n",
            "a -> b -> c -> c -> b -> a\n"
          ],
          "name": "stdout"
        }
      ]
    },
    {
      "cell_type": "code",
      "metadata": {
        "colab": {
          "base_uri": "https://localhost:8080/"
        },
        "id": "cO7qPz7QRkBx",
        "outputId": "a4c82d79-efb2-4835-c1f7-91eac85dbef6"
      },
      "source": [
        "print(is_palindrome(sll_h))\n",
        "sll_h.display_contents()"
      ],
      "execution_count": 60,
      "outputs": [
        {
          "output_type": "stream",
          "text": [
            "False\n",
            "a -> b -> c -> d -> b -> a\n"
          ],
          "name": "stdout"
        }
      ]
    },
    {
      "cell_type": "code",
      "metadata": {
        "id": "r68cPmOjRlhz"
      },
      "source": [
        ""
      ],
      "execution_count": null,
      "outputs": []
    }
  ]
}